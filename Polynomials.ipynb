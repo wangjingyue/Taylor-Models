{
 "cells": [
  {
   "cell_type": "code",
   "execution_count": 1,
   "metadata": {},
   "outputs": [],
   "source": [
    "import math\n",
    "from interval import interval, imath, fpu"
   ]
  },
  {
   "cell_type": "code",
   "execution_count": 2,
   "metadata": {},
   "outputs": [],
   "source": [
    "class Poly:\n",
    "    def __init__(self, coef:list, order:int):\n",
    "        self.order=order\n",
    "        if len(coef)<(order+1):\n",
    "            for i in range(order+1-len(coef)):\n",
    "                coef.append(0) \n",
    "        self.coef=coef\n",
    "\n",
    "    def __repr__(self):\n",
    "        return 'Poly(%s, %d)'%(self.coef, self.order)\n",
    "   \n",
    "    def fixshape(x, y):\n",
    "        order=max(x.order,y.order)\n",
    "        x1=x.coef[:]\n",
    "        y1=y.coef[:]\n",
    "        if x.order<order:\n",
    "            for i in range(order-x.order):\n",
    "                x1.append(0)\n",
    "        else:\n",
    "            for i in range(order-y.order):\n",
    "                y1.append(0)\n",
    "        return Poly(x1,order), Poly(y1,order), order\n",
    "        \n",
    "    def fixshape1(x, y):\n",
    "        order=x.order+y.order\n",
    "        x1=x.coef[:]\n",
    "        y1=y.coef[:]\n",
    "        for i in range(order-x.order):\n",
    "            x1.append(0)\n",
    "        for j in range(order-y.order):\n",
    "            y1.append(0)\n",
    "        return Poly(x1,order), Poly(y1,order), order   \n",
    "    \n",
    "    def firstnonzero(self):\n",
    "        order=self.order\n",
    "        nonzero=order+1\n",
    "        for i in range(order+1):\n",
    "            if self.coef[i]!=0:\n",
    "                nonzero=i\n",
    "                break\n",
    "        return nonzero\n",
    "    \n",
    "    def __add__(self, other):\n",
    "        coef=[]\n",
    "        if isinstance(other,(int,float)):\n",
    "            other=Poly([other],0)\n",
    "        self1, other1, order=self.fixshape(other)\n",
    "        for i in range(order+1):\n",
    "            coef.append(self1.coef[i]+other1.coef[i])\n",
    "        return Poly(coef,order)\n",
    "    \n",
    "    def __radd__(self,other):\n",
    "        return self+other\n",
    "    \n",
    "    def __sub__(self, other):\n",
    "        coef=[]\n",
    "        if isinstance(other,(int,float)):\n",
    "            other=Poly([other],0)\n",
    "        self1, other1, order=self.fixshape(other)\n",
    "        for i in range(order+1):\n",
    "            coef.append(self1.coef[i]-other1.coef[i])\n",
    "        return Poly(coef,order)\n",
    "    \n",
    "    def __rsub__(self,other):\n",
    "        if isinstance(other,(int,float)):\n",
    "            other=Poly([other],0)\n",
    "        return other-self\n",
    "    \n",
    "    def __mul__(self, other):\n",
    "        coef=[]\n",
    "        if isinstance(other,(int,float)):\n",
    "            if other==0:\n",
    "                return 0\n",
    "            else:\n",
    "                other=Poly([other],0)\n",
    "        self1, other1, order=Poly.fixshape1(self, other)\n",
    "        coef.append(self1.coef[0]*other1.coef[0])\n",
    "        for i in range(1,order+1):\n",
    "            s=0\n",
    "            for j in range(i+1):\n",
    "                s+=self1.coef[j]*other1.coef[i-j]\n",
    "            coef.append(s)\n",
    "        return Poly(coef,order)\n",
    "    \n",
    "    def __rmul__(self,other):\n",
    "        return self*other\n",
    "    \n",
    "    def __truediv__(self, other):\n",
    "        if isinstance(other,(int,float)):\n",
    "            if other==0:\n",
    "                raise Exception(\"Cannot dividied by zero!\")\n",
    "            else:\n",
    "                coef=[]\n",
    "                for i in range(self.order+1):\n",
    "                    coef.append(self.coef[i]/other)\n",
    "                return Poly(coef, self.order)\n",
    "        else:\n",
    "            raise Exception(\"Can only do scalar division!\")\n",
    "\n",
    "    def zero(n):\n",
    "        coef=[]\n",
    "        coef.append(0)\n",
    "        for i in range(n):\n",
    "            coef.append(0)\n",
    "        return Poly(coef,n)\n",
    "    \n",
    "    def one(n):\n",
    "        coef=[]\n",
    "        coef.append(1)\n",
    "        for i in range(n):\n",
    "            coef.append(0)\n",
    "        return Poly(coef,n)\n",
    "    \n",
    "    def __eq__(self,other):\n",
    "        self1, other1, order=Poly.fixshape(self, other)\n",
    "        return self1.coef==other1.coef\n",
    "    \n",
    "    def square(self):\n",
    "        order=self.order*2\n",
    "        for a in range(self.order):\n",
    "            self.coef.append(0)\n",
    "        coef=[]\n",
    "        coef.append((self.coef[0])**2)\n",
    "        for i in range(1,order+1):\n",
    "            coef.append(self.squarecoef(i,self.coef))\n",
    "        return Poly(coef,order)        \n",
    "    \n",
    "    def squarecoef(self,i,coef):\n",
    "        s=0\n",
    "        iend=int((i-2+i%2)/2)\n",
    "        for j in range(iend+1):\n",
    "            s+=coef[j]*coef[i-j]\n",
    "        s=2*s\n",
    "        if i%2==0:  \n",
    "            s+=coef[int(i/2)]**2\n",
    "        return s\n",
    "    \n",
    "    def sqrt(self):\n",
    "        order=self.order\n",
    "        l0nz=self.firstnonzero()\n",
    "        if l0nz%2==1:\n",
    "            raise ValueError(\"First non-vanishing Taylor coefficient must be an EVEN POWER to expand SQRT around 0.\\n\")\n",
    "        lnull=int(l0nz/2)\n",
    "        aux=math.sqrt(self.coef[l0nz])\n",
    "        coef=Poly.zero(order).coef\n",
    "        coef[lnull]=aux\n",
    "        for i in range(lnull+1,order-l0nz+1):\n",
    "            coef[i]=self.sqrtcoef(i,self.coef,coef,lnull)\n",
    "        return Poly(coef,order)\n",
    "\n",
    "    def sqrtcoef(self,i,ac,coef,lnull):\n",
    "        s=0\n",
    "        kodd=(i-lnull)%2\n",
    "        kend=int((i-lnull-2+kodd)/2)\n",
    "        for j in range(lnull+1,lnull+kend+1):\n",
    "            s+=coef[j]*coef[i+lnull-j]\n",
    "        aux=ac[i+lnull]-2*s\n",
    "        if kodd==0:\n",
    "            aux=aux-(coef[kend+lnull+1])**2\n",
    "        s=aux/(2*coef[lnull])\n",
    "        return s\n",
    "    \n",
    "    def __pow__(self,n):\n",
    "        if type(n)==int:\n",
    "            order=self.order*n\n",
    "            for a in range(self.order):\n",
    "                self.coef.append(0)\n",
    "            if n<0:\n",
    "                raise Exception(\"n must ≥ 0\")\n",
    "            elif n==0:\n",
    "                return Poly.one(order)\n",
    "            elif n%2==0:\n",
    "                if n==2:\n",
    "                    return self.square()\n",
    "                else:\n",
    "                    p=int(n/2)\n",
    "                    return Poly(self.__pow__(p).square().coef,order)\n",
    "            elif n==1:\n",
    "                return self\n",
    "            else:\n",
    "                p=int((n-1)/2)\n",
    "                return Poly((self*self.__pow__(p).square()).coef,order)\n",
    "        elif type(n)==float:\n",
    "            order=self.order\n",
    "            uno=Taylor.one(order)\n",
    "            if n==0:\n",
    "                return uno\n",
    "            elif n==0.5:\n",
    "                return self.sqrt()\n",
    "            l0nz=self.firstnonzero()\n",
    "            lnull=n*l0nz\n",
    "            lnull=int(lnull)\n",
    "            aux=(self.coef[l0nz])**n\n",
    "            coef=Taylor.zero(order).coef\n",
    "            coef[lnull]=aux\n",
    "            k0=lnull+l0nz\n",
    "            for i in range(k0+1,order+1):\n",
    "                coef[i-l0nz]=self.powcoef(i,self.coef,n,coef,l0nz)\n",
    "            return Poly(coef,order)\n",
    "\n",
    "    def powcoef(self,i,ac,x,coef,l0nz):\n",
    "        s=0\n",
    "        for j in range(i-l0nz):\n",
    "            aux=x*(i-j)-j\n",
    "            s+=aux*ac[i-j]*coef[j]\n",
    "        aux=i-l0nz*(x+1)\n",
    "        s=s/(aux*ac[l0nz])\n",
    "        return s\n",
    "    \n",
    "    def exp(self):\n",
    "        order=self.order\n",
    "        coef=[]\n",
    "        coef.append(math.exp(self.coef[0]))\n",
    "        for i in range(1,order+1):\n",
    "            s=0\n",
    "            for j in range(i):\n",
    "                s+=(i-j)*self.coef[i-j]*coef[j]\n",
    "            coef.append(s/i)\n",
    "        return Poly(coef,order)\n",
    "    \n",
    "    \n",
    "    def log(self):\n",
    "        order=self.order\n",
    "        coef=[]\n",
    "        coef.append(math.log(self.coef[0]))\n",
    "        for i in range(1,order+1):\n",
    "            s=0\n",
    "            for j in range(1,i):\n",
    "                s+=(i-j)*self.coef[j]*coef[i-j]\n",
    "            coef.append((self.coef[i]-s/i)/self.coef[0])\n",
    "        return Poly(coef,order)\n",
    "    \n",
    "    def sincos(self):\n",
    "        order=self.order\n",
    "        scoef=[];ccoef=[]\n",
    "        scoef.append(math.sin(self.coef[0]))\n",
    "        ccoef.append(math.cos(self.coef[0]))\n",
    "        for i in range(1,order+1):\n",
    "            s=0;c=0\n",
    "            for j in range(1,i+1):\n",
    "                s+=j*self.coef[j]*ccoef[i-j]\n",
    "                c-=j*self.coef[j]*scoef[i-j]\n",
    "            scoef.append(s/i)\n",
    "            ccoef.append(c/i)\n",
    "        return Poly(scoef,order), Poly(ccoef,order)\n",
    "    \n",
    "    def sin(self):\n",
    "        return self.sincos()[0]\n",
    "    \n",
    "    def cos(self):\n",
    "        return self.sincos()[1]\n",
    "    \n",
    "    def tan(self):\n",
    "        order=self.order\n",
    "        coef1=[]\n",
    "        coef2=[]\n",
    "        t=math.tan(self.coef[0])\n",
    "        coef1.append(t)\n",
    "        coef2.append(t**2)\n",
    "        for i in range(1,order+1):\n",
    "            coef1.append(self.tancoef(i,self.coef,coef2))\n",
    "            coef2.append(self.squarecoef(i,coef1))\n",
    "        return Poly(coef1,order)\n",
    "    \n",
    "    def tancoef(self,i,coef,coef2):\n",
    "        s=0\n",
    "        for j in range(i):\n",
    "            s+=(i-j)*coef[i-j]*coef2[j]\n",
    "        s=self.coef[i]+s/i\n",
    "        return s\n",
    "    \n",
    "    def diffPoly(self):\n",
    "        order=self.order\n",
    "        coef=[]\n",
    "        coef.append(self.coef[1])\n",
    "        for i in range(2,order+1):\n",
    "            coef.append(i*self.coef[i])\n",
    "        coef.append(0)\n",
    "        return Poly(coef,order)\n",
    "        \n",
    "    def intePoly(self,x):\n",
    "        order=self.order\n",
    "        coef=[]\n",
    "        coef.append(x)\n",
    "        for i in range(1,order+1):\n",
    "            coef.append(self.coef[i-1]/i)\n",
    "        return Poly(coef,order)\n",
    "    \n",
    "    #Horner's rule\n",
    "    def __call__(self,dx):\n",
    "        order=self.order\n",
    "        s=self.coef[order]\n",
    "        for i in range(order-1,-1,-1):\n",
    "            s=s*dx+self.coef[i]\n",
    "        return s\n",
    "        \n",
    "    def deriv(self,n):\n",
    "        s=math.factorial(n)*self.coef[n]\n",
    "        return s\n",
    "    \n",
    "    # f(g(x)),self=f,other=g\n",
    "    def compose(self,other):\n",
    "        return self(other)\n",
    "\n",
    "    def truncation(self,n):\n",
    "        return Poly(self.coef[:n+1],n)    \n",
    "    \n",
    "    def bound_naive(self,x):\n",
    "        B=self.coef[0]\n",
    "        n=self.order\n",
    "        for i in range(1,n+1):\n",
    "            B+=self.coef[i]*(x**i)\n",
    "        return B\n",
    "    \n",
    "    def bound(self,x,c='best'):\n",
    "        if c=='naive' or c=='n':\n",
    "            return self.bound_naive(x)\n",
    "        elif c=='Horner' or c=='H':\n",
    "            return self(x)\n",
    "        elif c=='best':\n",
    "            return self(x)&self.bound_naive(x)\n",
    "        else:\n",
    "            raise Exception(\"The options mush be naive(n), Horner(H) or best\")\n",
    "    \n",
    "    #subdivision k times\n",
    "    def subdivision(self,x,k=100):\n",
    "        if 0<k<=1000:\n",
    "            sup=x[0].sup\n",
    "            inf=x[0].inf\n",
    "            l=(sup-inf)/k\n",
    "            I=[]\n",
    "            for i in range(k):\n",
    "                I.append(interval([inf+i*l,inf+(i+1)*l]))\n",
    "            B=self.bound(I[0])\n",
    "            for j in range(1,k):\n",
    "                B=B|self.bound(I[j])\n",
    "            return B\n",
    "        else:\n",
    "            raise Exception(\"k must between 0~1000!\")\n",
    "    "
   ]
  },
  {
   "cell_type": "code",
   "execution_count": 3,
   "metadata": {},
   "outputs": [],
   "source": [
    "a=Poly([0,1,0,0,0],4)\n",
    "b=Poly([1,2,3],2)\n",
    "c=Poly([0,1,2,3,4],4)\n",
    "d=Poly([0,1,2],2)"
   ]
  },
  {
   "cell_type": "code",
   "execution_count": 4,
   "metadata": {},
   "outputs": [
    {
     "data": {
      "text/plain": [
       "Poly([0, 1, 4], 2)"
      ]
     },
     "execution_count": 4,
     "metadata": {},
     "output_type": "execute_result"
    }
   ],
   "source": [
    "(b*d).truncation(2)"
   ]
  },
  {
   "cell_type": "code",
   "execution_count": 5,
   "metadata": {},
   "outputs": [
    {
     "data": {
      "text/plain": [
       "Poly([1, 3, 3, 0, 0], 4)"
      ]
     },
     "execution_count": 5,
     "metadata": {},
     "output_type": "execute_result"
    }
   ],
   "source": [
    "a+b"
   ]
  },
  {
   "cell_type": "code",
   "execution_count": 6,
   "metadata": {},
   "outputs": [
    {
     "data": {
      "text/plain": [
       "7"
      ]
     },
     "execution_count": 6,
     "metadata": {},
     "output_type": "execute_result"
    }
   ],
   "source": [
    "(a+b)(1)"
   ]
  },
  {
   "cell_type": "code",
   "execution_count": 7,
   "metadata": {},
   "outputs": [
    {
     "data": {
      "text/plain": [
       "Poly([2, 1, 0, 0, 0], 4)"
      ]
     },
     "execution_count": 7,
     "metadata": {},
     "output_type": "execute_result"
    }
   ],
   "source": [
    "2+a"
   ]
  },
  {
   "cell_type": "code",
   "execution_count": 8,
   "metadata": {},
   "outputs": [
    {
     "data": {
      "text/plain": [
       "Poly([2, 1, 0, 0, 0], 4)"
      ]
     },
     "execution_count": 8,
     "metadata": {},
     "output_type": "execute_result"
    }
   ],
   "source": [
    "a+2"
   ]
  },
  {
   "cell_type": "code",
   "execution_count": 9,
   "metadata": {},
   "outputs": [
    {
     "data": {
      "text/plain": [
       "Poly([-1, -1, -3, 0, 0], 4)"
      ]
     },
     "execution_count": 9,
     "metadata": {},
     "output_type": "execute_result"
    }
   ],
   "source": [
    "a-b"
   ]
  },
  {
   "cell_type": "code",
   "execution_count": 10,
   "metadata": {},
   "outputs": [
    {
     "data": {
      "text/plain": [
       "Poly([-2, 1, 0, 0, 0], 4)"
      ]
     },
     "execution_count": 10,
     "metadata": {},
     "output_type": "execute_result"
    }
   ],
   "source": [
    "a-2"
   ]
  },
  {
   "cell_type": "code",
   "execution_count": 11,
   "metadata": {
    "scrolled": true
   },
   "outputs": [
    {
     "data": {
      "text/plain": [
       "Poly([2, -1, 0, 0, 0], 4)"
      ]
     },
     "execution_count": 11,
     "metadata": {},
     "output_type": "execute_result"
    }
   ],
   "source": [
    "2-a"
   ]
  },
  {
   "cell_type": "code",
   "execution_count": 12,
   "metadata": {
    "scrolled": false
   },
   "outputs": [
    {
     "data": {
      "text/plain": [
       "Poly([0, 1, 4, 10, 16, 17, 12], 6)"
      ]
     },
     "execution_count": 12,
     "metadata": {},
     "output_type": "execute_result"
    }
   ],
   "source": [
    "b*c"
   ]
  },
  {
   "cell_type": "code",
   "execution_count": 13,
   "metadata": {},
   "outputs": [
    {
     "data": {
      "text/plain": [
       "Poly([2, 4, 6], 2)"
      ]
     },
     "execution_count": 13,
     "metadata": {},
     "output_type": "execute_result"
    }
   ],
   "source": [
    "2*b"
   ]
  },
  {
   "cell_type": "code",
   "execution_count": 14,
   "metadata": {},
   "outputs": [
    {
     "data": {
      "text/plain": [
       "0"
      ]
     },
     "execution_count": 14,
     "metadata": {},
     "output_type": "execute_result"
    }
   ],
   "source": [
    "0*b"
   ]
  },
  {
   "cell_type": "code",
   "execution_count": 15,
   "metadata": {},
   "outputs": [
    {
     "data": {
      "text/plain": [
       "Poly([0.0, 0.5, 1.0, 1.5, 2.0], 4)"
      ]
     },
     "execution_count": 15,
     "metadata": {},
     "output_type": "execute_result"
    }
   ],
   "source": [
    "c/2"
   ]
  },
  {
   "cell_type": "code",
   "execution_count": 16,
   "metadata": {},
   "outputs": [
    {
     "data": {
      "text/plain": [
       "Poly([0, 2, 2, 3, 0, 0, 0], 6)"
      ]
     },
     "execution_count": 16,
     "metadata": {},
     "output_type": "execute_result"
    }
   ],
   "source": [
    "a*(b+1)"
   ]
  },
  {
   "cell_type": "code",
   "execution_count": 17,
   "metadata": {},
   "outputs": [
    {
     "data": {
      "text/plain": [
       "Poly([1, 2, 7, 18, 38, 60, 75, 72, 48], 8)"
      ]
     },
     "execution_count": 17,
     "metadata": {},
     "output_type": "execute_result"
    }
   ],
   "source": [
    "b.coef[0]+2*c+3*c**2"
   ]
  },
  {
   "cell_type": "code",
   "execution_count": 18,
   "metadata": {},
   "outputs": [
    {
     "data": {
      "text/plain": [
       "Poly([1, 2, 7, 18, 38, 60, 75, 72, 48], 8)"
      ]
     },
     "execution_count": 18,
     "metadata": {},
     "output_type": "execute_result"
    }
   ],
   "source": [
    "b.compose(c)"
   ]
  },
  {
   "cell_type": "code",
   "execution_count": 19,
   "metadata": {
    "scrolled": true
   },
   "outputs": [
    {
     "data": {
      "text/plain": [
       "Poly([1, 2, 7, 18, 38, 60, 75, 72, 48], 8)"
      ]
     },
     "execution_count": 19,
     "metadata": {},
     "output_type": "execute_result"
    }
   ],
   "source": [
    "b(c)"
   ]
  },
  {
   "cell_type": "code",
   "execution_count": 20,
   "metadata": {},
   "outputs": [
    {
     "data": {
      "text/plain": [
       "Poly([0, 1, 4], 2)"
      ]
     },
     "execution_count": 20,
     "metadata": {},
     "output_type": "execute_result"
    }
   ],
   "source": [
    "(b*c).truncation(2)"
   ]
  },
  {
   "cell_type": "code",
   "execution_count": 21,
   "metadata": {},
   "outputs": [
    {
     "data": {
      "text/plain": [
       "5"
      ]
     },
     "execution_count": 21,
     "metadata": {},
     "output_type": "execute_result"
    }
   ],
   "source": [
    "(b*c).truncation(2)(1)"
   ]
  },
  {
   "cell_type": "code",
   "execution_count": 22,
   "metadata": {},
   "outputs": [
    {
     "data": {
      "text/plain": [
       "interval([-4.0, 6.0])"
      ]
     },
     "execution_count": 22,
     "metadata": {},
     "output_type": "execute_result"
    }
   ],
   "source": [
    "b(interval([-1,1]))"
   ]
  },
  {
   "cell_type": "code",
   "execution_count": 23,
   "metadata": {},
   "outputs": [
    {
     "data": {
      "text/plain": [
       "interval([-1.0, 6.0])"
      ]
     },
     "execution_count": 23,
     "metadata": {},
     "output_type": "execute_result"
    }
   ],
   "source": [
    "b.bound_naive(interval([-1,1]))"
   ]
  },
  {
   "cell_type": "code",
   "execution_count": 24,
   "metadata": {},
   "outputs": [
    {
     "data": {
      "text/plain": [
       "interval([-1.0, 6.0])"
      ]
     },
     "execution_count": 24,
     "metadata": {},
     "output_type": "execute_result"
    }
   ],
   "source": [
    "b.bound(interval([-1,1]))"
   ]
  },
  {
   "cell_type": "code",
   "execution_count": 25,
   "metadata": {},
   "outputs": [
    {
     "data": {
      "text/plain": [
       "interval([-1.0, 6.0])"
      ]
     },
     "execution_count": 25,
     "metadata": {},
     "output_type": "execute_result"
    }
   ],
   "source": [
    "b.bound(interval([-1,1]),'n')"
   ]
  },
  {
   "cell_type": "code",
   "execution_count": 26,
   "metadata": {},
   "outputs": [
    {
     "data": {
      "text/plain": [
       "interval([-4.0, 6.0])"
      ]
     },
     "execution_count": 26,
     "metadata": {},
     "output_type": "execute_result"
    }
   ],
   "source": [
    "b.bound(interval([-1,1]),'H')"
   ]
  },
  {
   "cell_type": "code",
   "execution_count": 27,
   "metadata": {},
   "outputs": [
    {
     "data": {
      "text/plain": [
       "interval([-1.0, 6.0])"
      ]
     },
     "execution_count": 27,
     "metadata": {},
     "output_type": "execute_result"
    }
   ],
   "source": [
    "b.bound(interval([-1,1]),'best')"
   ]
  },
  {
   "cell_type": "code",
   "execution_count": 28,
   "metadata": {},
   "outputs": [
    {
     "data": {
      "text/plain": [
       "interval([0.6463999999999999, 6.0])"
      ]
     },
     "execution_count": 28,
     "metadata": {},
     "output_type": "execute_result"
    }
   ],
   "source": [
    "b.subdivision(interval([-1,1]),100)"
   ]
  },
  {
   "cell_type": "code",
   "execution_count": 29,
   "metadata": {},
   "outputs": [
    {
     "data": {
      "text/plain": [
       "interval([-9.0, 39.0])"
      ]
     },
     "execution_count": 29,
     "metadata": {},
     "output_type": "execute_result"
    }
   ],
   "source": [
    "(lambda x: x**2 + x + x**3 - x**2)(interval[0,3])"
   ]
  },
  {
   "cell_type": "code",
   "execution_count": 30,
   "metadata": {},
   "outputs": [
    {
     "data": {
      "text/plain": [
       "interval([0.0, 30.0])"
      ]
     },
     "execution_count": 30,
     "metadata": {},
     "output_type": "execute_result"
    }
   ],
   "source": [
    "f1=Poly([0,1,1],2)\n",
    "f2=Poly([0,0,-1,1],3)\n",
    "f3=f1+f2\n",
    "f3(interval[0,3])"
   ]
  },
  {
   "cell_type": "code",
   "execution_count": 31,
   "metadata": {
    "scrolled": false
   },
   "outputs": [
    {
     "data": {
      "text/plain": [
       "interval([-9.0, 39.0])"
      ]
     },
     "execution_count": 31,
     "metadata": {},
     "output_type": "execute_result"
    }
   ],
   "source": [
    "(lambda x: x**2 + x + x**3 - x**2)(interval[0,3])"
   ]
  },
  {
   "cell_type": "code",
   "execution_count": 32,
   "metadata": {},
   "outputs": [
    {
     "data": {
      "text/plain": [
       "interval([-4.0, 14.0])"
      ]
     },
     "execution_count": 32,
     "metadata": {},
     "output_type": "execute_result"
    }
   ],
   "source": [
    "(lambda x: x**2 + x + x**3 - x**2)(interval[0,2])"
   ]
  },
  {
   "cell_type": "code",
   "execution_count": 33,
   "metadata": {},
   "outputs": [
    {
     "data": {
      "text/plain": [
       "interval([5.0, 35.0])"
      ]
     },
     "execution_count": 33,
     "metadata": {},
     "output_type": "execute_result"
    }
   ],
   "source": [
    "(lambda x: x**2 + x + x**3 - x**2)(interval[2,3])"
   ]
  },
  {
   "cell_type": "code",
   "execution_count": 34,
   "metadata": {},
   "outputs": [
    {
     "data": {
      "text/plain": [
       "interval([-4.0, 35.0])"
      ]
     },
     "execution_count": 34,
     "metadata": {},
     "output_type": "execute_result"
    }
   ],
   "source": [
    "(lambda x: x**2 + x + x**3 - x**2)(interval[0,2])|(lambda x: x**2 + x + x**3 - x**2)(interval[2,3])"
   ]
  },
  {
   "cell_type": "code",
   "execution_count": 35,
   "metadata": {},
   "outputs": [
    {
     "data": {
      "text/plain": [
       "Poly([1.0, 1.0, 0.5, 0.16666666666666666, 0.041666666666666664], 4)"
      ]
     },
     "execution_count": 35,
     "metadata": {},
     "output_type": "execute_result"
    }
   ],
   "source": [
    "a.exp()"
   ]
  },
  {
   "cell_type": "code",
   "execution_count": 36,
   "metadata": {},
   "outputs": [
    {
     "data": {
      "text/plain": [
       "Poly([0.0, -1.0, -0.5, -0.3333333333333333, -0.25], 4)"
      ]
     },
     "execution_count": 36,
     "metadata": {},
     "output_type": "execute_result"
    }
   ],
   "source": [
    "(Poly.one(1)-a).log()"
   ]
  },
  {
   "cell_type": "code",
   "execution_count": 37,
   "metadata": {},
   "outputs": [
    {
     "data": {
      "text/plain": [
       "0.8333333333333334"
      ]
     },
     "execution_count": 37,
     "metadata": {},
     "output_type": "execute_result"
    }
   ],
   "source": [
    "a.sin()(1)"
   ]
  },
  {
   "cell_type": "code",
   "execution_count": 38,
   "metadata": {},
   "outputs": [
    {
     "data": {
      "text/plain": [
       "0.5416666666666667"
      ]
     },
     "execution_count": 38,
     "metadata": {},
     "output_type": "execute_result"
    }
   ],
   "source": [
    "a.cos()(1)"
   ]
  },
  {
   "cell_type": "code",
   "execution_count": 39,
   "metadata": {},
   "outputs": [
    {
     "data": {
      "text/plain": [
       "1.3333333333333333"
      ]
     },
     "execution_count": 39,
     "metadata": {},
     "output_type": "execute_result"
    }
   ],
   "source": [
    "a.tan()(1)"
   ]
  },
  {
   "cell_type": "code",
   "execution_count": 40,
   "metadata": {},
   "outputs": [
    {
     "data": {
      "text/plain": [
       "0"
      ]
     },
     "execution_count": 40,
     "metadata": {},
     "output_type": "execute_result"
    }
   ],
   "source": [
    "k=0\n",
    "if 0<k<10:\n",
    "    a=1\n",
    "else: a=0\n",
    "a"
   ]
  },
  {
   "cell_type": "code",
   "execution_count": null,
   "metadata": {},
   "outputs": [],
   "source": []
  },
  {
   "cell_type": "code",
   "execution_count": 17,
   "metadata": {},
   "outputs": [
    {
     "name": "stdout",
     "output_type": "stream",
     "text": [
      "[NbConvertApp] Converting notebook Polynomials.ipynb to python\n",
      "[NbConvertApp] Writing 11479 bytes to Polynomials.py\n"
     ]
    }
   ],
   "source": [
    "try:   \n",
    "    !jupyter nbconvert --to python Polynomials.ipynb\n",
    "    # python即转化为.py，script即转化为.html\n",
    "    # file_name.ipynb即当前module的文件名\n",
    "except:\n",
    "    pass   "
   ]
  },
  {
   "cell_type": "code",
   "execution_count": null,
   "metadata": {},
   "outputs": [],
   "source": []
  }
 ],
 "metadata": {
  "kernelspec": {
   "display_name": "Python 3",
   "language": "python",
   "name": "python3"
  },
  "language_info": {
   "codemirror_mode": {
    "name": "ipython",
    "version": 3
   },
   "file_extension": ".py",
   "mimetype": "text/x-python",
   "name": "python",
   "nbconvert_exporter": "python",
   "pygments_lexer": "ipython3",
   "version": "3.7.4"
  }
 },
 "nbformat": 4,
 "nbformat_minor": 4
}
