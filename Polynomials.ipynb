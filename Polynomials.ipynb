{
 "cells": [
  {
   "cell_type": "code",
   "execution_count": 1,
   "metadata": {},
   "outputs": [],
   "source": [
    "import math\n",
    "from interval import interval, imath, fpu"
   ]
  },
  {
   "cell_type": "code",
   "execution_count": 2,
   "metadata": {},
   "outputs": [],
   "source": [
    "class Poly:\n",
    "    def __init__(self, coef:list, order:int):\n",
    "        self.order=order\n",
    "        if len(coef)<(order+1):\n",
    "            for i in range(order+1-len(coef)):\n",
    "                coef.append(0) \n",
    "        self.coef=coef\n",
    "\n",
    "    def __repr__(self):\n",
    "        return 'Poly(%s, %d)'%(self.coef, self.order)\n",
    "   \n",
    "    def fixshape(x, y):\n",
    "        order=max(x.order,y.order)\n",
    "        x1=x.coef[:]\n",
    "        y1=y.coef[:]\n",
    "        if x.order<order:\n",
    "            for i in range(order-x.order):\n",
    "                x1.append(0)\n",
    "        else:\n",
    "            for i in range(order-y.order):\n",
    "                y1.append(0)\n",
    "        return Poly(x1,order), Poly(y1,order), order\n",
    "        \n",
    "    def fixshape1(x, y):\n",
    "        order=x.order+y.order\n",
    "        x1=x.coef[:]\n",
    "        y1=y.coef[:]\n",
    "        for i in range(order-x.order):\n",
    "            x1.append(0)\n",
    "        for j in range(order-y.order):\n",
    "            y1.append(0)\n",
    "        return Poly(x1,order), Poly(y1,order), order   \n",
    "    \n",
    "    def firstnonzero(self):\n",
    "        order=self.order\n",
    "        nonzero=order+1\n",
    "        for i in range(order+1):\n",
    "            if self.coef[i]!=0:\n",
    "                nonzero=i\n",
    "                break\n",
    "        return nonzero\n",
    "    \n",
    "    def __add__(self, other):\n",
    "        coef=[]\n",
    "        if isinstance(other,(int,float)):\n",
    "            other=Poly([other],0)\n",
    "        self1, other1, order=self.fixshape(other)\n",
    "        for i in range(order+1):\n",
    "            coef.append(self1.coef[i]+other1.coef[i])\n",
    "        return Poly(coef,order)\n",
    "    \n",
    "    def __radd__(self,other):\n",
    "        return self+other\n",
    "    \n",
    "    def __sub__(self, other):\n",
    "        coef=[]\n",
    "        if isinstance(other,(int,float)):\n",
    "            other=Poly([other],0)\n",
    "        self1, other1, order=self.fixshape(other)\n",
    "        for i in range(order+1):\n",
    "            coef.append(self1.coef[i]-other1.coef[i])\n",
    "        return Poly(coef,order)\n",
    "    \n",
    "    def __rsub__(self,other):\n",
    "        if isinstance(other,(int,float)):\n",
    "            other=Poly([other],0)\n",
    "        return other-self\n",
    "    \n",
    "    def __mul__(self, other):\n",
    "        coef=[]\n",
    "        if isinstance(other,(int,float)):\n",
    "            if other==0:\n",
    "                return 0\n",
    "            else:\n",
    "                other=Poly([other],0)\n",
    "        self1, other1, order=Poly.fixshape1(self, other)\n",
    "        coef.append(self1.coef[0]*other1.coef[0])\n",
    "        for i in range(1,order+1):\n",
    "            s=0\n",
    "            for j in range(i+1):\n",
    "                s+=self1.coef[j]*other1.coef[i-j]\n",
    "            coef.append(s)\n",
    "        return Poly(coef,order)\n",
    "    \n",
    "    def __rmul__(self,other):\n",
    "        return self*other\n",
    "    \n",
    "    def __truediv__(self, other):\n",
    "        if isinstance(other,(int,float)):\n",
    "            if other==0:\n",
    "                raise Exception(\"Cannot dividied by zero!\")\n",
    "            else:\n",
    "                coef=[]\n",
    "                for i in range(self.order+1):\n",
    "                    coef.append(self.coef[i]/other)\n",
    "                return Poly(coef, self.order)\n",
    "        else:\n",
    "            raise Exception(\"Can only do scalar division!\")\n",
    "\n",
    "    def zero(n):\n",
    "        coef=[]\n",
    "        coef.append(0)\n",
    "        for i in range(n):\n",
    "            coef.append(0)\n",
    "        return Poly(coef,n)\n",
    "    \n",
    "    def one(n):\n",
    "        coef=[]\n",
    "        coef.append(1)\n",
    "        for i in range(n):\n",
    "            coef.append(0)\n",
    "        return Poly(coef,n)\n",
    "    \n",
    "    def __eq__(self,other):\n",
    "        self1, other1, order=Poly.fixshape(self, other)\n",
    "        return self1.coef==other1.coef\n",
    "    \n",
    "    def square(self):\n",
    "        order=self.order*2\n",
    "        for a in range(self.order):\n",
    "            self.coef.append(0)\n",
    "        coef=[]\n",
    "        coef.append((self.coef[0])**2)\n",
    "        for i in range(1,order+1):\n",
    "            coef.append(self.squarecoef(i,self.coef))\n",
    "        return Poly(coef,order)        \n",
    "    \n",
    "    def squarecoef(self,i,coef):\n",
    "        s=0\n",
    "        iend=int((i-2+i%2)/2)\n",
    "        for j in range(iend+1):\n",
    "            s+=coef[j]*coef[i-j]\n",
    "        s=2*s\n",
    "        if i%2==0:  \n",
    "            s+=coef[int(i/2)]**2\n",
    "        return s\n",
    "    \n",
    "    def __pow__(self,n):\n",
    "        if type(n)==int:\n",
    "            order=self.order*n\n",
    "            for a in range(self.order):\n",
    "                self.coef.append(0)\n",
    "            if n<0:\n",
    "                raise Exception(\"n must ≥ 0\")\n",
    "            elif n==0:\n",
    "                return Poly.one(order)\n",
    "            elif n%2==0:\n",
    "                if n==2:\n",
    "                    return self.square()\n",
    "                else:\n",
    "                    p=int(n/2)\n",
    "                    return Poly(self.__pow__(p).square().coef,order)\n",
    "            elif n==1:\n",
    "                return self\n",
    "            else:\n",
    "                p=int((n-1)/2)\n",
    "                return Poly((self*self.__pow__(p).square()).coef,order)\n",
    "        elif type(n)==float:\n",
    "            order=self.order\n",
    "            uno=Taylor.one(order)\n",
    "            if n==0:\n",
    "                return uno\n",
    "            elif n==0.5:\n",
    "                return self.sqrt()\n",
    "            l0nz=self.firstnonzero()\n",
    "            lnull=n*l0nz\n",
    "            lnull=int(lnull)\n",
    "            aux=(self.coef[l0nz])**n\n",
    "            coef=Taylor.zero(order).coef\n",
    "            coef[lnull]=aux\n",
    "            k0=lnull+l0nz\n",
    "            for i in range(k0+1,order+1):\n",
    "                coef[i-l0nz]=self.powcoef(i,self.coef,n,coef,l0nz)\n",
    "            return Poly(coef,order)\n",
    "\n",
    "    def powcoef(self,i,ac,x,coef,l0nz):\n",
    "        s=0\n",
    "        for j in range(i-l0nz):\n",
    "            aux=x*(i-j)-j\n",
    "            s+=aux*ac[i-j]*coef[j]\n",
    "        aux=i-l0nz*(x+1)\n",
    "        s=s/(aux*ac[l0nz])\n",
    "        return s\n",
    "    \n",
    "    def exp(self):\n",
    "        order=self.order\n",
    "        coef=[]\n",
    "        coef.append(math.exp(self.coef[0]))\n",
    "        for i in range(1,order+1):\n",
    "            s=0\n",
    "            for j in range(i):\n",
    "                s+=(i-j)*self.coef[i-j]*coef[j]\n",
    "            coef.append(s/i)\n",
    "        return Poly(coef,order)\n",
    "    \n",
    "    \n",
    "    def log(self):\n",
    "        order=self.order\n",
    "        coef=[]\n",
    "        coef.append(math.log(self.coef[0]))\n",
    "        for i in range(1,order+1):\n",
    "            s=0\n",
    "            for j in range(1,i):\n",
    "                s+=(i-j)*self.coef[j]*coef[i-j]\n",
    "            coef.append((self.coef[i]-s/i)/self.coef[0])\n",
    "        return Poly(coef,order)\n",
    "    \n",
    "    def sincos(self):\n",
    "        order=self.order\n",
    "        scoef=[];ccoef=[]\n",
    "        scoef.append(math.sin(self.coef[0]))\n",
    "        ccoef.append(math.cos(self.coef[0]))\n",
    "        for i in range(1,order+1):\n",
    "            s=0;c=0\n",
    "            for j in range(1,i+1):\n",
    "                s+=j*self.coef[j]*ccoef[i-j]\n",
    "                c-=j*self.coef[j]*scoef[i-j]\n",
    "            scoef.append(s/i)\n",
    "            ccoef.append(c/i)\n",
    "        return Poly(scoef,order), Poly(ccoef,order)\n",
    "    \n",
    "    def sin(self):\n",
    "        return self.sincos()[0]\n",
    "    \n",
    "    def cos(self):\n",
    "        return self.sincos()[1]\n",
    "    \n",
    "    def tan(self):\n",
    "        order=self.order\n",
    "        coef1=[]\n",
    "        coef2=[]\n",
    "        t=math.tan(self.coef[0])\n",
    "        coef1.append(t)\n",
    "        coef2.append(t**2)\n",
    "        for i in range(1,order+1):\n",
    "            coef1.append(self.tancoef(i,self.coef,coef2))\n",
    "            coef2.append(self.squarecoef(i,coef1))\n",
    "        return Poly(coef1,order)\n",
    "    \n",
    "    def tancoef(self,i,coef,coef2):\n",
    "        s=0\n",
    "        for j in range(i):\n",
    "            s+=(i-j)*coef[i-j]*coef2[j]\n",
    "        s=self.coef[i]+s/i\n",
    "        return s\n",
    "    \n",
    "    def diffPoly(self):\n",
    "        order=self.order\n",
    "        coef=[]\n",
    "        coef.append(self.coef[1])\n",
    "        for i in range(2,order+1):\n",
    "            coef.append(i*self.coef[i])\n",
    "        coef.append(0)\n",
    "        return Poly(coef,order)\n",
    "        \n",
    "    def intePoly(self,x):\n",
    "        order=self.order\n",
    "        coef=[]\n",
    "        coef.append(x)\n",
    "        for i in range(1,order+1):\n",
    "            coef.append(self.coef[i-1]/i)\n",
    "        return Poly(coef,order)\n",
    "    \n",
    "    #Horner's rule\n",
    "    def __call__(self,dx):\n",
    "        order=self.order\n",
    "        s=self.coef[order]\n",
    "        for i in range(order-1,-1,-1):\n",
    "            s=s*dx+self.coef[i]\n",
    "        return s\n",
    "        \n",
    "    def deriv(self,n):\n",
    "        s=math.factorial(n)*self.coef[n]\n",
    "        return s\n",
    "    \n",
    "    # f(g(x)),self=f,other=g\n",
    "    def compose(self,other):\n",
    "        return self(other)\n",
    "\n",
    "    def truncation(self,n):\n",
    "        return Poly(self.coef[:n+1],n)    \n",
    "    \n",
    "    def bound_naive(self,x):\n",
    "        B=self.coef[0]\n",
    "        n=self.order\n",
    "        for i in range(1,n+1):\n",
    "            B+=self.coef[i]*(x**i)\n",
    "        return B\n",
    "    \n",
    "    def bound(self,x,c='best'):\n",
    "        if c=='naive' or c=='n':\n",
    "            return self.bound_naive(x)\n",
    "        elif c=='Horner' or c=='H':\n",
    "            return self(x)\n",
    "        elif c=='sub' or c=='s':\n",
    "            return self.subdivision(x)\n",
    "        elif c=='best' or c=='b':\n",
    "            return self(x)&self.bound_naive(x)\n",
    "        else:\n",
    "            raise Exception(\"The options mush be naive(n), Horner(H), sub(s) or best(b)\")\n",
    "    \n",
    "    #subdivision k times\n",
    "    def binarychop(x):\n",
    "        I=[]\n",
    "        for i in x:\n",
    "            sup=i[0].sup\n",
    "            inf=i[0].inf\n",
    "            l=(sup-inf)/2\n",
    "            I.append(interval([inf,inf+l]))\n",
    "            I.append(interval([inf+l,sup]))\n",
    "        return I\n",
    "    \n",
    "    def subdivision(self,x):\n",
    "        a=self(x) \n",
    "        I=Poly.binarychop([x])\n",
    "        b=self(I[0])|self(I[1])    \n",
    "        k=(a[0].sup-a[0].inf)-(b[0].sup-b[0].inf)\n",
    "        while k>=0.001:\n",
    "            a=b\n",
    "            I=Poly.binarychop(I)\n",
    "            b=self(I[0])\n",
    "            for i in I:\n",
    "                b=b|self(i)\n",
    "            k=(a[0].sup-a[0].inf)-(b[0].sup-b[0].inf)\n",
    "        return b\n",
    "            \n",
    "\n",
    "            \n",
    "    "
   ]
  },
  {
   "cell_type": "code",
   "execution_count": 4,
   "metadata": {},
   "outputs": [
    {
     "name": "stdout",
     "output_type": "stream",
     "text": [
      "interval([-1.0, 6.0]) interval([-0.0, 6.0]) 1.0\n",
      "interval([-0.0, 6.0]) interval([0.375, 6.0]) 0.375\n",
      "interval([0.375, 6.0]) interval([0.53125, 6.0]) 0.15625\n",
      "interval([0.53125, 6.0]) interval([0.6015625, 6.0]) 0.0703125\n",
      "interval([0.6015625, 6.0]) interval([0.634765625, 6.0]) 0.033203125\n",
      "interval([0.634765625, 6.0]) interval([0.65087890625, 6.0]) 0.01611328125\n",
      "interval([0.65087890625, 6.0]) interval([0.6588134765625, 6.0]) 0.0079345703125\n",
      "interval([0.6588134765625, 6.0]) interval([0.662750244140625, 6.0]) 0.003936767578125\n",
      "interval([0.662750244140625, 6.0]) interval([0.6647109985351562, 6.0]) 0.00196075439453125\n",
      "interval([0.6647109985351562, 6.0]) interval([0.6656894683837891, 6.0]) 0.0009784698486328125\n"
     ]
    },
    {
     "data": {
      "text/plain": [
       "interval([0.6656894683837891, 6.0])"
      ]
     },
     "execution_count": 4,
     "metadata": {},
     "output_type": "execute_result"
    }
   ],
   "source": [
    "b.subdivision(interval([-1,1]))"
   ]
  },
  {
   "cell_type": "code",
   "execution_count": 40,
   "metadata": {},
   "outputs": [
    {
     "data": {
      "text/plain": [
       "interval([-9.0, 39.0])"
      ]
     },
     "execution_count": 40,
     "metadata": {},
     "output_type": "execute_result"
    }
   ],
   "source": [
    "(lambda x: x**2 + x + x**3 - x**2)(interval[0,3])"
   ]
  },
  {
   "cell_type": "code",
   "execution_count": 41,
   "metadata": {},
   "outputs": [
    {
     "data": {
      "text/plain": [
       "interval([0.0, 30.0])"
      ]
     },
     "execution_count": 41,
     "metadata": {},
     "output_type": "execute_result"
    }
   ],
   "source": [
    "f1=Poly([0,1,1],2)\n",
    "f2=Poly([0,0,-1,1],3)\n",
    "f3=f1+f2\n",
    "f3(interval[0,3])"
   ]
  },
  {
   "cell_type": "code",
   "execution_count": 42,
   "metadata": {
    "scrolled": false
   },
   "outputs": [
    {
     "data": {
      "text/plain": [
       "interval([-9.0, 39.0])"
      ]
     },
     "execution_count": 42,
     "metadata": {},
     "output_type": "execute_result"
    }
   ],
   "source": [
    "(lambda x: x**2 + x + x**3 - x**2)(interval[0,3])"
   ]
  },
  {
   "cell_type": "code",
   "execution_count": 43,
   "metadata": {},
   "outputs": [
    {
     "data": {
      "text/plain": [
       "interval([-4.0, 14.0])"
      ]
     },
     "execution_count": 43,
     "metadata": {},
     "output_type": "execute_result"
    }
   ],
   "source": [
    "(lambda x: x**2 + x + x**3 - x**2)(interval[0,2])"
   ]
  },
  {
   "cell_type": "code",
   "execution_count": 44,
   "metadata": {},
   "outputs": [
    {
     "data": {
      "text/plain": [
       "interval([5.0, 35.0])"
      ]
     },
     "execution_count": 44,
     "metadata": {},
     "output_type": "execute_result"
    }
   ],
   "source": [
    "(lambda x: x**2 + x + x**3 - x**2)(interval[2,3])"
   ]
  },
  {
   "cell_type": "code",
   "execution_count": 45,
   "metadata": {},
   "outputs": [
    {
     "data": {
      "text/plain": [
       "interval([-4.0, 35.0])"
      ]
     },
     "execution_count": 45,
     "metadata": {},
     "output_type": "execute_result"
    }
   ],
   "source": [
    "(lambda x: x**2 + x + x**3 - x**2)(interval[0,2])|(lambda x: x**2 + x + x**3 - x**2)(interval[2,3])"
   ]
  },
  {
   "cell_type": "code",
   "execution_count": null,
   "metadata": {},
   "outputs": [],
   "source": []
  },
  {
   "cell_type": "code",
   "execution_count": 4,
   "metadata": {},
   "outputs": [
    {
     "name": "stdout",
     "output_type": "stream",
     "text": [
      "[NbConvertApp] Converting notebook Polynomials.ipynb to python\n",
      "[NbConvertApp] Writing 10888 bytes to Polynomials.py\n"
     ]
    }
   ],
   "source": [
    "try:   \n",
    "    !jupyter nbconvert --to python Polynomials.ipynb\n",
    "    # python即转化为.py，script即转化为.html\n",
    "    # file_name.ipynb即当前module的文件名\n",
    "except:\n",
    "    pass   "
   ]
  },
  {
   "cell_type": "code",
   "execution_count": null,
   "metadata": {},
   "outputs": [],
   "source": []
  }
 ],
 "metadata": {
  "kernelspec": {
   "display_name": "Python 3",
   "language": "python",
   "name": "python3"
  },
  "language_info": {
   "codemirror_mode": {
    "name": "ipython",
    "version": 3
   },
   "file_extension": ".py",
   "mimetype": "text/x-python",
   "name": "python",
   "nbconvert_exporter": "python",
   "pygments_lexer": "ipython3",
   "version": "3.7.4"
  }
 },
 "nbformat": 4,
 "nbformat_minor": 4
}
