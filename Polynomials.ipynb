{
 "cells": [
  {
   "cell_type": "code",
   "execution_count": 1,
   "metadata": {},
   "outputs": [],
   "source": [
    "import math\n",
    "from interval import interval, imath, fpu"
   ]
  },
  {
   "cell_type": "code",
   "execution_count": 2,
   "metadata": {},
   "outputs": [],
   "source": [
    "class Taylor:\n",
    "    def __init__(self, coef:list, order:int):\n",
    "        self.order=order\n",
    "        if len(coef)<(order+1):\n",
    "            for i in range(order+1-len(coef)):\n",
    "                coef.append(0)\n",
    "        self.coef=coef\n",
    "\n",
    "    def __repr__(self):\n",
    "        return 'Taylor(%s, %d)'%(self.coef, self.order)\n",
    "   \n",
    "    def fixshape(x, y):\n",
    "        order=max(x.order,y.order)\n",
    "        x1=x.coef[:]\n",
    "        y1=y.coef[:]\n",
    "        if x.order<order:\n",
    "            for i in range(order-x.order):\n",
    "                x1.append(0)\n",
    "        else:\n",
    "            for i in range(order-y.order):\n",
    "                y1.append(0)\n",
    "        return Taylor(x1,order), Taylor(y1,order), order\n",
    "        \n",
    "    def fixshape1(x, y):\n",
    "        order=x.order+y.order\n",
    "        x1=x.coef[:]\n",
    "        y1=y.coef[:]\n",
    "        for i in range(order-x.order):\n",
    "            x1.append(0)\n",
    "        for j in range(order-y.order):\n",
    "            y1.append(0)\n",
    "        return Taylor(x1,order), Taylor(y1,order), order   \n",
    "    \n",
    "    def firstnonzero(self):\n",
    "        order=self.order\n",
    "        nonzero=order+1\n",
    "        for i in range(order+1):\n",
    "            if self.coef[i]!=0:\n",
    "                nonzero=i\n",
    "                break\n",
    "        return nonzero\n",
    "    \n",
    "    def __add__(self, other):\n",
    "        coef=[]\n",
    "        if isinstance(other,(int,float)):\n",
    "            other=Taylor([other],0)\n",
    "        self1, other1, order=self.fixshape(other)\n",
    "        for i in range(order+1):\n",
    "            coef.append(self1.coef[i]+other1.coef[i])\n",
    "        return Taylor(coef,order)\n",
    "    \n",
    "    def __radd__(self,other):\n",
    "        return self+other\n",
    "    \n",
    "    def __sub__(self, other):\n",
    "        coef=[]\n",
    "        if isinstance(other,(int,float)):\n",
    "            other=Taylor([other],0)\n",
    "        self1, other1, order=self.fixshape(other)\n",
    "        for i in range(order+1):\n",
    "            coef.append(self1.coef[i]-other1.coef[i])\n",
    "        return Taylor(coef,order)\n",
    "    \n",
    "    def __rsub__(self,other):\n",
    "        if isinstance(other,(int,float)):\n",
    "            other=Taylor([other],0)\n",
    "        return other-self\n",
    "    \n",
    "    def __mul__(self, other):\n",
    "        coef=[]\n",
    "        if isinstance(other,(int,float)):\n",
    "            if other==0:\n",
    "                return 0\n",
    "            else:\n",
    "                other=Taylor([other],0)\n",
    "        self1, other1, order=Taylor.fixshape1(self, other)\n",
    "        coef.append(self1.coef[0]*other1.coef[0])\n",
    "        for i in range(1,order+1):\n",
    "            s=0\n",
    "            for j in range(i+1):\n",
    "                s+=self1.coef[j]*other1.coef[i-j]\n",
    "            coef.append(s)\n",
    "        return Taylor(coef,order)\n",
    "    \n",
    "    def __rmul__(self,other):\n",
    "        return self*other\n",
    "    \n",
    "    def __truediv__(self, other):\n",
    "        if isinstance(other,(int,float)):\n",
    "            other=Taylor([other],0)\n",
    "        self1, other1, order=self.fixshape(other)\n",
    "        coef=Taylor.zero(order).coef\n",
    "        orddivfact, cdivfact=self1.divfactorization(other1)\n",
    "        coef[0]=cdivfact\n",
    "        for i in range(orddivfact+1,order+1):\n",
    "            coef[i-orddivfact]=self.divcoef(i,self1.coef,other1.coef,coef,orddivfact)\n",
    "        return Taylor(coef,order)\n",
    "    \n",
    "    def divfactorization(self,other):\n",
    "        a1nz=self.firstnonzero()\n",
    "        b1nz=other.firstnonzero()\n",
    "        orddivfact=min(a1nz,b1nz)\n",
    "        try:\n",
    "            cdivfact=self.coef[orddivfact]/other.coef[orddivfact]\n",
    "            aux=cdivfact**2\n",
    "        except ZeroDivisionError:\n",
    "            print(\"Division does not define a Taylor polynomial\\n\")\n",
    "        return orddivfact, cdivfact\n",
    "    \n",
    "    def divcoef(self,i,coef1,coef2,coef,orddivfact):\n",
    "        s=0\n",
    "        for j in range(i+1):\n",
    "            s+=coef[j]*coef2[i-j]\n",
    "        s=(coef1[i]-s)/coef2[orddivfact]\n",
    "        return s\n",
    "\n",
    "    def zero(n):\n",
    "        coef=[]\n",
    "        coef.append(0)\n",
    "        for i in range(n):\n",
    "            coef.append(0)\n",
    "        return Taylor(coef,n)\n",
    "    \n",
    "    def one(n):\n",
    "        coef=[]\n",
    "        coef.append(1)\n",
    "        for i in range(n):\n",
    "            coef.append(0)\n",
    "        return Taylor(coef,n)\n",
    "    \n",
    "    def __eq__(self,other):\n",
    "        self1, other1, order=Taylor.fixshape(self, other)\n",
    "        return self1.coef==other1.coef\n",
    "    \n",
    "    def square(self):\n",
    "        order=self.order*2\n",
    "        for a in range(self.order):\n",
    "            self.coef.append(0)\n",
    "        coef=[]\n",
    "        coef.append((self.coef[0])**2)\n",
    "        for i in range(1,order+1):\n",
    "            coef.append(self.squarecoef(i,self.coef))\n",
    "        return Taylor(coef,order)        \n",
    "    \n",
    "    def squarecoef(self,i,coef):\n",
    "        s=0\n",
    "        iend=int((i-2+i%2)/2)\n",
    "        for j in range(iend+1):\n",
    "            s+=coef[j]*coef[i-j]\n",
    "        s=2*s\n",
    "        if i%2==0:  \n",
    "            s+=coef[int(i/2)]**2\n",
    "        return s\n",
    "    \n",
    "    def __pow__(self,n):\n",
    "        if type(n)==int:\n",
    "            order=self.order*n\n",
    "            for a in range(self.order):\n",
    "                self.coef.append(0)\n",
    "            if n<0:\n",
    "                return Taylor.one(n)/self.__pow__(-n)\n",
    "            elif n==0:\n",
    "                return Taylor.one(order)\n",
    "            elif n%2==0:\n",
    "                if n==2:\n",
    "                    return self.square()\n",
    "                else:\n",
    "                    p=int(n/2)\n",
    "                    return Taylor(self.__pow__(p).square().coef,order)\n",
    "            elif n==1:\n",
    "                return self\n",
    "            else:\n",
    "                p=int((n-1)/2)\n",
    "                return Taylor((self*self.__pow__(p).square()).coef,order)\n",
    "        elif type(n)==float:\n",
    "            order=self.order\n",
    "            uno=Taylor.one(order)\n",
    "            if n==0:\n",
    "                return uno\n",
    "            elif n==0.5:\n",
    "                return self.sqrt()\n",
    "            l0nz=self.firstnonzero()\n",
    "            lnull=n*l0nz\n",
    "            lnull=int(lnull)\n",
    "            aux=(self.coef[l0nz])**n\n",
    "            coef=Taylor.zero(order).coef\n",
    "            coef[lnull]=aux\n",
    "            k0=lnull+l0nz\n",
    "            for i in range(k0+1,order+1):\n",
    "                coef[i-l0nz]=self.powcoef(i,self.coef,n,coef,l0nz)\n",
    "            return Taylor(coef,order)\n",
    "\n",
    "    def powcoef(self,i,ac,x,coef,l0nz):\n",
    "        s=0\n",
    "        for j in range(i-l0nz):\n",
    "            aux=x*(i-j)-j\n",
    "            s+=aux*ac[i-j]*coef[j]\n",
    "        aux=i-l0nz*(x+1)\n",
    "        s=s/(aux*ac[l0nz])\n",
    "        return s\n",
    "    \n",
    "    def diffTaylor(self):\n",
    "        order=self.order\n",
    "        coef=[]\n",
    "        coef.append(self.coef[1])\n",
    "        for i in range(2,order+1):\n",
    "            coef.append(i*self.coef[i])\n",
    "        coef.append(0)\n",
    "        return Taylor(coef,order)\n",
    "        \n",
    "    def inteTaylor(self,x):\n",
    "        order=self.order\n",
    "        coef=[]\n",
    "        coef.append(x)\n",
    "        for i in range(1,order+1):\n",
    "            coef.append(self.coef[i-1]/i)\n",
    "        return Taylor(coef,order)\n",
    "     \n",
    "    def __call__(self,dx):\n",
    "        order=self.order\n",
    "        s=self.coef[-1]\n",
    "        for i in range(order-1,-1,-1):\n",
    "            s=s*dx+self.coef[i]\n",
    "        return s\n",
    "        \n",
    "    def deriv(self,n):\n",
    "        s=math.factorial(n)*self.coef[n]\n",
    "        return s\n",
    "    \n",
    "    #f(g(x)),self=f,other=g\n",
    "    def compose(self,other):\n",
    "        s=self.coef[0]\n",
    "        for i in range(1,self.order+1):\n",
    "            s+=self.coef[i]*other**i\n",
    "        return s\n",
    "\n",
    "        \n",
    "        "
   ]
  },
  {
   "cell_type": "code",
   "execution_count": 3,
   "metadata": {},
   "outputs": [],
   "source": [
    "a=Taylor([0,1,0,0,0],4)\n",
    "b=Taylor([1,2,3],2)\n",
    "c=Taylor([0,1,2,3,4],4)"
   ]
  },
  {
   "cell_type": "code",
   "execution_count": 4,
   "metadata": {},
   "outputs": [
    {
     "data": {
      "text/plain": [
       "Taylor([1, 3, 3, 0, 0], 4)"
      ]
     },
     "execution_count": 4,
     "metadata": {},
     "output_type": "execute_result"
    }
   ],
   "source": [
    "a+b"
   ]
  },
  {
   "cell_type": "code",
   "execution_count": 5,
   "metadata": {},
   "outputs": [
    {
     "data": {
      "text/plain": [
       "7"
      ]
     },
     "execution_count": 5,
     "metadata": {},
     "output_type": "execute_result"
    }
   ],
   "source": [
    "(a+b)(1)"
   ]
  },
  {
   "cell_type": "code",
   "execution_count": 6,
   "metadata": {},
   "outputs": [
    {
     "data": {
      "text/plain": [
       "Taylor([2, 1, 0, 0, 0], 4)"
      ]
     },
     "execution_count": 6,
     "metadata": {},
     "output_type": "execute_result"
    }
   ],
   "source": [
    "2+a"
   ]
  },
  {
   "cell_type": "code",
   "execution_count": 7,
   "metadata": {},
   "outputs": [
    {
     "data": {
      "text/plain": [
       "Taylor([-1, -1, -3, 0, 0], 4)"
      ]
     },
     "execution_count": 7,
     "metadata": {},
     "output_type": "execute_result"
    }
   ],
   "source": [
    "a-b"
   ]
  },
  {
   "cell_type": "code",
   "execution_count": 8,
   "metadata": {},
   "outputs": [
    {
     "data": {
      "text/plain": [
       "Taylor([-2, 1, 0, 0, 0], 4)"
      ]
     },
     "execution_count": 8,
     "metadata": {},
     "output_type": "execute_result"
    }
   ],
   "source": [
    "a-2"
   ]
  },
  {
   "cell_type": "code",
   "execution_count": 9,
   "metadata": {},
   "outputs": [
    {
     "data": {
      "text/plain": [
       "Taylor([2, -1, 0, 0, 0], 4)"
      ]
     },
     "execution_count": 9,
     "metadata": {},
     "output_type": "execute_result"
    }
   ],
   "source": [
    "2-a"
   ]
  },
  {
   "cell_type": "code",
   "execution_count": 10,
   "metadata": {},
   "outputs": [
    {
     "data": {
      "text/plain": [
       "Taylor([0, 1, 4, 10, 16, 17, 12], 6)"
      ]
     },
     "execution_count": 10,
     "metadata": {},
     "output_type": "execute_result"
    }
   ],
   "source": [
    "b*c"
   ]
  },
  {
   "cell_type": "code",
   "execution_count": 11,
   "metadata": {},
   "outputs": [
    {
     "data": {
      "text/plain": [
       "Taylor([2, 4, 6], 2)"
      ]
     },
     "execution_count": 11,
     "metadata": {},
     "output_type": "execute_result"
    }
   ],
   "source": [
    "2*b"
   ]
  },
  {
   "cell_type": "code",
   "execution_count": 12,
   "metadata": {},
   "outputs": [
    {
     "data": {
      "text/plain": [
       "0"
      ]
     },
     "execution_count": 12,
     "metadata": {},
     "output_type": "execute_result"
    }
   ],
   "source": [
    "0*b"
   ]
  },
  {
   "cell_type": "code",
   "execution_count": 13,
   "metadata": {},
   "outputs": [
    {
     "data": {
      "text/plain": [
       "Taylor([0.0, 0.5, 1.0, 1.5, 2.0], 4)"
      ]
     },
     "execution_count": 13,
     "metadata": {},
     "output_type": "execute_result"
    }
   ],
   "source": [
    "c/2"
   ]
  },
  {
   "cell_type": "code",
   "execution_count": 14,
   "metadata": {},
   "outputs": [
    {
     "data": {
      "text/plain": [
       "Taylor([0, 2, 2, 3, 0, 0, 0], 6)"
      ]
     },
     "execution_count": 14,
     "metadata": {},
     "output_type": "execute_result"
    }
   ],
   "source": [
    "a*(b+1)"
   ]
  },
  {
   "cell_type": "code",
   "execution_count": 15,
   "metadata": {},
   "outputs": [
    {
     "data": {
      "text/plain": [
       "Taylor([1, 2, 7, 18, 38, 60, 75, 72, 48], 8)"
      ]
     },
     "execution_count": 15,
     "metadata": {},
     "output_type": "execute_result"
    }
   ],
   "source": [
    "b.coef[0]+2*c+3*c**2"
   ]
  },
  {
   "cell_type": "code",
   "execution_count": 16,
   "metadata": {},
   "outputs": [
    {
     "data": {
      "text/plain": [
       "Taylor([1, 2, 7, 18, 38, 60, 75, 72, 48], 8)"
      ]
     },
     "execution_count": 16,
     "metadata": {},
     "output_type": "execute_result"
    }
   ],
   "source": [
    "b.compose(c)"
   ]
  },
  {
   "cell_type": "code",
   "execution_count": 17,
   "metadata": {},
   "outputs": [
    {
     "data": {
      "text/plain": [
       "interval([-9.0, 39.0])"
      ]
     },
     "execution_count": 17,
     "metadata": {},
     "output_type": "execute_result"
    }
   ],
   "source": [
    "(lambda x: x**2 + x + x**3 - x**2)(interval[0,3])"
   ]
  },
  {
   "cell_type": "code",
   "execution_count": 18,
   "metadata": {},
   "outputs": [
    {
     "data": {
      "text/plain": [
       "interval([0.0, 30.0])"
      ]
     },
     "execution_count": 18,
     "metadata": {},
     "output_type": "execute_result"
    }
   ],
   "source": [
    "f1=Taylor([0,1,1],2)\n",
    "f2=Taylor([0,0,-1,1],3)\n",
    "f3=f1+f2\n",
    "f3(interval[0,3])"
   ]
  },
  {
   "cell_type": "code",
   "execution_count": 19,
   "metadata": {},
   "outputs": [
    {
     "data": {
      "text/plain": [
       "interval([-9.0, 39.0])"
      ]
     },
     "execution_count": 19,
     "metadata": {},
     "output_type": "execute_result"
    }
   ],
   "source": [
    "(lambda x: x**2 + x + x**3 - x**2)(interval[0,3])"
   ]
  },
  {
   "cell_type": "code",
   "execution_count": 20,
   "metadata": {},
   "outputs": [
    {
     "data": {
      "text/plain": [
       "interval([-4.0, 14.0])"
      ]
     },
     "execution_count": 20,
     "metadata": {},
     "output_type": "execute_result"
    }
   ],
   "source": [
    "(lambda x: x**2 + x + x**3 - x**2)(interval[0,2])"
   ]
  },
  {
   "cell_type": "code",
   "execution_count": 21,
   "metadata": {},
   "outputs": [
    {
     "data": {
      "text/plain": [
       "interval([5.0, 35.0])"
      ]
     },
     "execution_count": 21,
     "metadata": {},
     "output_type": "execute_result"
    }
   ],
   "source": [
    "(lambda x: x**2 + x + x**3 - x**2)(interval[2,3])"
   ]
  },
  {
   "cell_type": "code",
   "execution_count": 22,
   "metadata": {},
   "outputs": [
    {
     "data": {
      "text/plain": [
       "interval([-4.0, 35.0])"
      ]
     },
     "execution_count": 22,
     "metadata": {},
     "output_type": "execute_result"
    }
   ],
   "source": [
    "(lambda x: x**2 + x + x**3 - x**2)(interval[0,2])|(lambda x: x**2 + x + x**3 - x**2)(interval[2,3])"
   ]
  },
  {
   "cell_type": "code",
   "execution_count": null,
   "metadata": {},
   "outputs": [],
   "source": []
  }
 ],
 "metadata": {
  "kernelspec": {
   "display_name": "Python 3",
   "language": "python",
   "name": "python3"
  },
  "language_info": {
   "codemirror_mode": {
    "name": "ipython",
    "version": 3
   },
   "file_extension": ".py",
   "mimetype": "text/x-python",
   "name": "python",
   "nbconvert_exporter": "python",
   "pygments_lexer": "ipython3",
   "version": "3.7.4"
  }
 },
 "nbformat": 4,
 "nbformat_minor": 4
}
