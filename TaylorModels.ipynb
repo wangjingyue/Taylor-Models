{
 "cells": [
  {
   "cell_type": "code",
   "execution_count": 1,
   "metadata": {},
   "outputs": [],
   "source": [
    "import math\n",
    "from interval import interval, imath\n",
    "from Polynomials import *"
   ]
  },
  {
   "cell_type": "code",
   "execution_count": 2,
   "metadata": {},
   "outputs": [],
   "source": [
    "class Taylor:\n",
    "    def __init__(self, poly:Poly, remainder:interval, domain:interval):\n",
    "        self.P=poly\n",
    "        self.I=interval(remainder)\n",
    "        self.D=interval(domain)\n",
    "\n",
    "    @property\n",
    "    def order(self):\n",
    "        return self.P.order\n",
    "    \n",
    "    def __repr__(self):\n",
    "        return 'Taylor({0}, {1}, {2})'.format(self.P, self.I, self.D)\n",
    "    \n",
    "    def __add__(self, other):\n",
    "        if isinstance(other,(int,float)):\n",
    "            other=Taylor(Poly([other],0),0,self.D)\n",
    "        D=self.D&other.D\n",
    "        return Taylor(self.P+other.P,self.I+other.I,D)\n",
    "    \n",
    "    def __radd__(self,other):\n",
    "        return self+other\n",
    "    \n",
    "    def __sub__(self, other):\n",
    "        if isinstance(other,(int,float)):\n",
    "            other=Taylor(Poly([other],0),0,self.D)\n",
    "        D=self.D&other.D\n",
    "        return Taylor(self.P-other.P,self.I-other.I,D)\n",
    "    \n",
    "    def __rsub__(self,other):\n",
    "        if isinstance(other,(int,float)):\n",
    "            other=Taylor(Poly([other],0),0,self.D)\n",
    "        return other-self\n",
    "    \n",
    "    # full multiplication, n is the result order, defualt n is 'full'\n",
    "    def fullmul(self,other,n='full'):\n",
    "        if isinstance(other,(int,float)):\n",
    "            if other==0:\n",
    "                return 0\n",
    "            else:\n",
    "                return Taylor(other*self.P,other*self.I,self.D)\n",
    "        D=self.D&other.D\n",
    "        P=self.P*other.P\n",
    "        I1=self.P.bound(D)*other.I\n",
    "        I2=self.I*other.P.bound(D)\n",
    "        I=I1+I2+self.I*other.I\n",
    "        if n=='full':\n",
    "            return Taylor(P,I,D)\n",
    "        elif isinstance(n,int) and n>0 and n<=(self.n+other.n):\n",
    "            return Taylor(P,I,D).truncation(n)\n",
    "        else:\n",
    "            raise Exception(\"n must be 'full' or integer between 0 ~ self.order+other.order\")\n",
    "    \n",
    "    def __mul__(self, other):\n",
    "        if isinstance(other,(int,float)):\n",
    "            if other==0:\n",
    "                return 0\n",
    "            else:\n",
    "                return Taylor(other*self.P,other*self.I,self.D)\n",
    "        return self.fullmul(other).truncation(max(self.order,other.order))\n",
    "    \n",
    "    def __rmul__(self,other):\n",
    "        return self*other\n",
    "    \n",
    "    def bound(self,c='best'):\n",
    "        return self.P.bound(self.D,c)+self.I\n",
    "    \n",
    "    def __call__(self):\n",
    "        return self.bound()\n",
    "    \n",
    "    def truncation(self,n,c='best'):\n",
    "        P=self.P.truncation(n)\n",
    "        I=(self.P-P).bound(self.D,c)+self.I\n",
    "        return Taylor(P,I,self.D)\n",
    "    \n",
    "    def __truediv__(self, other):\n",
    "        if isinstance(other,(int,float)):\n",
    "            if other==0:\n",
    "                raise Exception(\"Cannot dividied by zero!\")\n",
    "            else:\n",
    "                return Taylor(self.P/other,self.I/other,self.D)\n",
    "        else:\n",
    "            raise Exception(\"Can only do scalar division!\")\n",
    "    \n",
    "    def one(self):\n",
    "        return Taylor(Poly.one(self.order),self.I,self.D)\n",
    "    \n",
    "    def zero(self):\n",
    "        return Taylor(Poly.zero(self.order),self.I,self.D)\n",
    "    \n",
    "    def __eq__(self,other):\n",
    "        if self.P==other.P and self.I==other.I and self.D==other.D:\n",
    "            return True\n",
    "    \n",
    "    def square(self):\n",
    "        return self*self\n",
    "    \n",
    "    def __pow__(self,n):\n",
    "        if n==0:\n",
    "            return self.one()\n",
    "        elif n%2==0:\n",
    "            if n==2:\n",
    "                return self.square()\n",
    "            else:\n",
    "                p=int(n/2)\n",
    "                return self.__pow__(p).square()\n",
    "        elif n%2==1:\n",
    "            if n==1:\n",
    "                return self\n",
    "            else:\n",
    "                p=int((n-1)/2)\n",
    "                return self*self.__pow__(p).square()\n",
    "        else:\n",
    "            raise Exception(\"n must be a positive integer\")\n",
    "    \n",
    "    # 0~n+1 coefficients of exp sin cos\n",
    "    def coeff(f,n,x,flag=0):\n",
    "        if flag==1: # n+1 coefficients\n",
    "            h=imath\n",
    "        else: h=math\n",
    "        if f=='exp':\n",
    "            return h.exp(x)/math.factorial(n)\n",
    "        if f=='sin':\n",
    "            i=n%4\n",
    "        if f=='cos':\n",
    "            i=(n+1)%4\n",
    "        if i==0:\n",
    "            return h.sin(x)/math.factorial(n)\n",
    "        elif i==1:\n",
    "            return h.cos(x)/math.factorial(n)\n",
    "        elif i==2:\n",
    "            return -h.sin(x)/math.factorial(n)\n",
    "        elif i==3:\n",
    "            return -h.cos(x)/math.factorial(n)\n",
    "    \n",
    "    # elementary functions with lagrange remainder\n",
    "    def element(f,n,x0,D):\n",
    "        coef=[]\n",
    "        for i in range(n+1):\n",
    "            coef.append(Taylor.coeff(f,i,x0))\n",
    "        coef1=Taylor.coeff(f,n+1,D,1)\n",
    "        coef.append(coef1)\n",
    "        I=coef1*((D-x0)**(n+1))\n",
    "        return Taylor(Poly(coef,n),I,D)\n",
    "\n",
    "    def compo_poly(self,p,c='best'):\n",
    "        if c=='naive' or c=='n':\n",
    "            return p.bound_naive(self)\n",
    "        elif c=='Horner' or c=='H':\n",
    "            return p(self)\n",
    "        elif c=='best':\n",
    "            if p.bound_naive(self).I&p(self).I==p(self).I:\n",
    "                return p(self)\n",
    "            else: return p.bound_naive(self)\n",
    "        else:\n",
    "            raise Exception(\"The options mush be naive(n), Horner(H) or best\")\n",
    "    #composition of a function 'f' and a Taylor model 'self'\n",
    "    def compose1(self,f,n,x0):\n",
    "        Bf=self.bound()\n",
    "        Mg=Taylor.element(f,n,x0,Bf)\n",
    "        M1=self.zero()\n",
    "        M1.P.coef[1:]=self.P.coef[1:]\n",
    "        M=M1.compo_poly(Mg.P,'best')\n",
    "        return Taylor(M.P,M.I+Mg.I,self.D)\n",
    "    \n",
    "    # composition of two TM : f(g(x)),self=f,other=g        \n",
    "    def compose(self,other,c='best'):\n",
    "        if isinstance(other,Poly):\n",
    "            other=Taylor(other,0,self.D)\n",
    "        if c=='naive' or c=='n':\n",
    "            return self.P.bound_naive(other)+self.zero()\n",
    "        elif c=='Horner' or c=='H':\n",
    "            return self.P(other)+self.zero()\n",
    "        elif c=='best':\n",
    "            if self.P.bound_naive(other).I&self.P(other).I==self.P(other).I:\n",
    "                return self.P(other)+self.zero()\n",
    "            else: return self.P.bound_naive(other)+self.zero()\n",
    "        else:\n",
    "            raise Exception(\"The options mush be naive(n), Horner(H) or best\")"
   ]
  },
  {
   "cell_type": "code",
   "execution_count": 3,
   "metadata": {},
   "outputs": [
    {
     "data": {
      "text/plain": [
       "Taylor(Poly([0, 1, 2, 3, 4], 4), interval([0.0, 1.0]), interval([-1.0, 1.0]))"
      ]
     },
     "execution_count": 3,
     "metadata": {},
     "output_type": "execute_result"
    }
   ],
   "source": [
    "a=Taylor(Poly([0,1,2,3,4],4),interval([0,1]),interval([-1,1]))\n",
    "b=Taylor(Poly([1,2,3,4,5],4),interval([0,2]),interval([-1,1]))\n",
    "a"
   ]
  },
  {
   "cell_type": "code",
   "execution_count": 13,
   "metadata": {},
   "outputs": [
    {
     "data": {
      "text/plain": [
       "Taylor(Poly([0.0, 1.0, -0.0, -0.16666666666666666, interval([-0.035061291033662366, 0.035061291033662366])], 3), interval([-0.035061291033662366, 0.035061291033662366]), interval([-1.0, 1.0]))"
      ]
     },
     "execution_count": 13,
     "metadata": {},
     "output_type": "execute_result"
    }
   ],
   "source": [
    "s=Taylor.element('sin',3,0,interval([-1.0, 1.0]))\n",
    "s"
   ]
  },
  {
   "cell_type": "code",
   "execution_count": 14,
   "metadata": {},
   "outputs": [
    {
     "data": {
      "text/plain": [
       "Taylor(Poly([0.0, 2.0, 0.0, -1.3333333333333333], 3), interval([-0.035061291033662366, 0.035061291033662366]), interval([-1.0, 1.0]))"
      ]
     },
     "execution_count": 14,
     "metadata": {},
     "output_type": "execute_result"
    }
   ],
   "source": [
    "s2=s.compose(Taylor(Poly([0,2],3),interval([0,0]),interval([-1,1])))\n",
    "s2"
   ]
  },
  {
   "cell_type": "code",
   "execution_count": 15,
   "metadata": {},
   "outputs": [
    {
     "data": {
      "text/plain": [
       "interval([-3.8943139898719314, 3.8943139898719314])"
      ]
     },
     "execution_count": 15,
     "metadata": {},
     "output_type": "execute_result"
    }
   ],
   "source": [
    "Poly([0.0, 1.0, -0.0, -0.16666666666666666, interval([-0.035061291033662366, 0.035061291033662366])], 4)(interval[-2,2])"
   ]
  },
  {
   "cell_type": "code",
   "execution_count": 11,
   "metadata": {},
   "outputs": [
    {
     "data": {
      "text/plain": [
       "Taylor(Poly([0, 1, 2], 2), interval([-3.0, 8.0]), interval([-1.0, 1.0]))"
      ]
     },
     "execution_count": 11,
     "metadata": {},
     "output_type": "execute_result"
    }
   ],
   "source": [
    "a.truncation(2)"
   ]
  },
  {
   "cell_type": "code",
   "execution_count": 12,
   "metadata": {},
   "outputs": [
    {
     "data": {
      "text/plain": [
       "Taylor(Poly([0, 2, 8, 24, 64], 4), interval([-0.0, 1.0]), interval([-1.0, 1.0]))"
      ]
     },
     "execution_count": 12,
     "metadata": {},
     "output_type": "execute_result"
    }
   ],
   "source": [
    "a.compose(Poly([0,2,0,0,0],4),'H')"
   ]
  },
  {
   "cell_type": "code",
   "execution_count": 31,
   "metadata": {},
   "outputs": [
    {
     "data": {
      "text/plain": [
       "TaylorModel(Poly([0, 2], 1), interval([-88.0, 96.0]), interval([-1.0, 1.0]))"
      ]
     },
     "execution_count": 31,
     "metadata": {},
     "output_type": "execute_result"
    }
   ],
   "source": [
    "o=Taylor(Poly([0,2],1),0,interval([-1,1]))\n",
    "a.P(o)"
   ]
  },
  {
   "cell_type": "code",
   "execution_count": 32,
   "metadata": {},
   "outputs": [
    {
     "data": {
      "text/plain": [
       "Poly([0, 2, 8, 24, 64], 4)"
      ]
     },
     "execution_count": 32,
     "metadata": {},
     "output_type": "execute_result"
    }
   ],
   "source": [
    "a.P(Poly([0,2],1))"
   ]
  },
  {
   "cell_type": "code",
   "execution_count": 50,
   "metadata": {},
   "outputs": [
    {
     "data": {
      "text/plain": [
       "interval([-0.5609806565385979, 0.5609806565385979])"
      ]
     },
     "execution_count": 50,
     "metadata": {},
     "output_type": "execute_result"
    }
   ],
   "source": [
    "interval([-0.035061291033662366, 0.035061291033662366])*16"
   ]
  },
  {
   "cell_type": "code",
   "execution_count": 52,
   "metadata": {},
   "outputs": [
    {
     "data": {
      "text/plain": [
       "TaylorModel(Poly([1, 2, 7, 22, 67], 4), interval([-37541.0, 78818.0]), interval([-1.0, 1.0]))"
      ]
     },
     "execution_count": 52,
     "metadata": {},
     "output_type": "execute_result"
    }
   ],
   "source": [
    "b.compose(a)"
   ]
  },
  {
   "cell_type": "code",
   "execution_count": 53,
   "metadata": {},
   "outputs": [
    {
     "name": "stdout",
     "output_type": "stream",
     "text": [
      "interval([-0.04166666666666667, 0.04166666666666667])\n"
     ]
    },
    {
     "data": {
      "text/plain": [
       "TaylorModel(Poly([0.0, 2.0, 0.0, -1.3333333333333333], 3), interval([-0.6666666666666667, 0.6666666666666667]), interval([-1.0, 1.0]))"
      ]
     },
     "execution_count": 53,
     "metadata": {},
     "output_type": "execute_result"
    }
   ],
   "source": [
    "Taylor(Poly([0,2],3),interval([0,0]),interval([-1,1])).compose1('sin',3,0)"
   ]
  },
  {
   "cell_type": "code",
   "execution_count": 54,
   "metadata": {},
   "outputs": [
    {
     "data": {
      "text/plain": [
       "interval([-0.5609806565385979, 0.5609806565385979])"
      ]
     },
     "execution_count": 54,
     "metadata": {},
     "output_type": "execute_result"
    }
   ],
   "source": [
    "interval([-0.035061291033662366, 0.035061291033662366])*16"
   ]
  },
  {
   "cell_type": "code",
   "execution_count": 55,
   "metadata": {},
   "outputs": [
    {
     "name": "stdout",
     "output_type": "stream",
     "text": [
      "interval([0.022512596077839148, 0.04166666666666667])\n"
     ]
    },
    {
     "data": {
      "text/plain": [
       "TaylorModel(Poly([1.0, -0.0, -0.5, 0.0], 3), interval([0.0, 0.04166666666666667]), interval([-1.0, 1.0]))"
      ]
     },
     "execution_count": 55,
     "metadata": {},
     "output_type": "execute_result"
    }
   ],
   "source": [
    "c=Taylor.element('cos',3,0,interval([-1.0, 1.0]))\n",
    "c"
   ]
  },
  {
   "cell_type": "code",
   "execution_count": 59,
   "metadata": {},
   "outputs": [],
   "source": [
    "a=Taylor(Poly([0,1,2,3,4],4),interval([0,1]),interval([-1,1]))"
   ]
  },
  {
   "cell_type": "code",
   "execution_count": 60,
   "metadata": {},
   "outputs": [
    {
     "data": {
      "text/plain": [
       "interval([-4.0, 11.0])"
      ]
     },
     "execution_count": 60,
     "metadata": {},
     "output_type": "execute_result"
    }
   ],
   "source": [
    "a.bound()"
   ]
  },
  {
   "cell_type": "code",
   "execution_count": 61,
   "metadata": {},
   "outputs": [
    {
     "name": "stdout",
     "output_type": "stream",
     "text": [
      "interval([-0.008333333333333335, 0.008333333333333335])\n"
     ]
    },
    {
     "data": {
      "text/plain": [
       "TaylorModel(Poly([0.0, 1.0, -0.0, -0.16666666666666666, 0.0], 4), interval([-1342.0916666666672, 1342.0916666666672]), interval([-4.0, 11.0]))"
      ]
     },
     "execution_count": 61,
     "metadata": {},
     "output_type": "execute_result"
    }
   ],
   "source": [
    "Mg=Taylor.element('sin',4,0,interval([-4.0, 11.0]))\n",
    "Mg"
   ]
  },
  {
   "cell_type": "code",
   "execution_count": 62,
   "metadata": {},
   "outputs": [
    {
     "data": {
      "text/plain": [
       "TaylorModel(Poly([0, 1, 2, 3, 4], 4), interval([0.0, 1.0]), interval([-1.0, 1.0]))"
      ]
     },
     "execution_count": 62,
     "metadata": {},
     "output_type": "execute_result"
    }
   ],
   "source": [
    "a"
   ]
  },
  {
   "cell_type": "code",
   "execution_count": 63,
   "metadata": {},
   "outputs": [],
   "source": [
    "M1=a"
   ]
  },
  {
   "cell_type": "code",
   "execution_count": 64,
   "metadata": {},
   "outputs": [
    {
     "data": {
      "text/plain": [
       "Poly([0.0, 1.0, -0.0, -0.16666666666666666, 0.0], 4)"
      ]
     },
     "execution_count": 64,
     "metadata": {},
     "output_type": "execute_result"
    }
   ],
   "source": [
    "Mg.P"
   ]
  },
  {
   "cell_type": "code",
   "execution_count": 65,
   "metadata": {},
   "outputs": [
    {
     "data": {
      "text/plain": [
       "TaylorModel(Poly([0.0, 1.0, 2.0, 2.8333333333333335, 3.0], 4), interval([-220.66666666666666, 108.16666666666667]), interval([-1.0, 1.0]))"
      ]
     },
     "execution_count": 65,
     "metadata": {},
     "output_type": "execute_result"
    }
   ],
   "source": [
    "M=M1.compo_poly(Mg.P,'best')\n",
    "M"
   ]
  },
  {
   "cell_type": "code",
   "execution_count": 66,
   "metadata": {},
   "outputs": [
    {
     "data": {
      "text/plain": [
       "TaylorModel(Poly([0.0, 1.0, 2.0, 2.8333333333333335, 3.0], 4), interval([-1562.758333333334, 1450.258333333334]), interval([-1.0, 1.0]))"
      ]
     },
     "execution_count": 66,
     "metadata": {},
     "output_type": "execute_result"
    }
   ],
   "source": [
    "Taylor(M.P,M.I+Mg.I,interval([-1,1]))"
   ]
  },
  {
   "cell_type": "code",
   "execution_count": 6,
   "metadata": {},
   "outputs": [
    {
     "data": {
      "text/plain": [
       "Taylor(Poly([1, 2, 7, 22, 67], 4), interval([-37541.0, 78816.0]), interval([-1.0, 1.0]))"
      ]
     },
     "execution_count": 6,
     "metadata": {},
     "output_type": "execute_result"
    }
   ],
   "source": [
    "b.P(a)"
   ]
  },
  {
   "cell_type": "code",
   "execution_count": 13,
   "metadata": {},
   "outputs": [
    {
     "data": {
      "text/plain": [
       "Taylor(Poly([1, 2, 7, 22, 67], 4), interval([-37541.0, 78818.0]), interval([-1.0, 1.0]))"
      ]
     },
     "execution_count": 13,
     "metadata": {},
     "output_type": "execute_result"
    }
   ],
   "source": [
    "b.compose(a)"
   ]
  },
  {
   "cell_type": "code",
   "execution_count": null,
   "metadata": {},
   "outputs": [],
   "source": []
  },
  {
   "cell_type": "code",
   "execution_count": null,
   "metadata": {},
   "outputs": [],
   "source": []
  },
  {
   "cell_type": "code",
   "execution_count": null,
   "metadata": {},
   "outputs": [],
   "source": []
  },
  {
   "cell_type": "code",
   "execution_count": null,
   "metadata": {},
   "outputs": [],
   "source": []
  }
 ],
 "metadata": {
  "kernelspec": {
   "display_name": "Python 3",
   "language": "python",
   "name": "python3"
  },
  "language_info": {
   "codemirror_mode": {
    "name": "ipython",
    "version": 3
   },
   "file_extension": ".py",
   "mimetype": "text/x-python",
   "name": "python",
   "nbconvert_exporter": "python",
   "pygments_lexer": "ipython3",
   "version": "3.7.4"
  }
 },
 "nbformat": 4,
 "nbformat_minor": 4
}
