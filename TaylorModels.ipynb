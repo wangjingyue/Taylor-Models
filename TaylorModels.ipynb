{
 "cells": [
  {
   "cell_type": "code",
   "execution_count": 1,
   "metadata": {},
   "outputs": [],
   "source": [
    "import math\n",
    "from interval import interval, imath\n",
    "from Polynomials import *"
   ]
  },
  {
   "cell_type": "code",
   "execution_count": 2,
   "metadata": {},
   "outputs": [],
   "source": [
    "class Taylor:\n",
    "    def __init__(self, poly:Poly, x0:interval, domain:interval):\n",
    "        self.poly=poly\n",
    "        self.rem=interval(0)\n",
    "        self.x0=x0\n",
    "        self.I=domain\n",
    "\n",
    "    def __repr__(self):\n",
    "        return 'TaylorModel({0}, {1}, {2}, {3} )'.format(self.poly, self.rem, self.x0, self.I)\n",
    "    \n",
    "    #bound polynomials\n",
    "    def bound_poly(self):\n",
    "        B=interval(0)\n",
    "        n=self.poly.order\n",
    "        for i in range(n,-1,-1):\n",
    "            B=B*(self.I-self.x0)+interval(self.poly.coef[i])\n",
    "        return B\n",
    "    \n",
    "    #bound remainder\n",
    "    def bound_rem(self, f, selfI):\n",
    "        order=self.poly.order+1\n",
    "        if (selfI[0].sup<0 or selfI[0].inf>0):\n",
    "            a=interval(self.I[0].inf)\n",
    "            b=interval(self.I[0].sup)\n",
    "            deltainf=f(a)-self.poly(a-self.x0)\n",
    "            deltasup=f(b)-self.poly(b-self.x0)\n",
    "            deltax0=f(self.x0)-self.poly(0)\n",
    "            delta=interval.hull((interval.hull((deltainf,deltax0)),deltasup))\n",
    "        else:\n",
    "            delta=selfI*((self.I-self.x0)**order)\n",
    "        return delta\n",
    "        \n",
    "    def bound(self):\n",
    "        return bound_poly(self)+self.rem\n",
    "    \n",
    "    "
   ]
  },
  {
   "cell_type": "code",
   "execution_count": 3,
   "metadata": {},
   "outputs": [
    {
     "data": {
      "text/plain": [
       "TaylorModel(Poly([0, 1, 2, 3, 4], 4), interval([0.0]), interval([0.0]), interval([-1.0, 1.0]) )"
      ]
     },
     "execution_count": 3,
     "metadata": {},
     "output_type": "execute_result"
    }
   ],
   "source": [
    "a=Taylor(Poly([0,1,2,3,4],4),interval(0),interval([-1,1]))\n",
    "a1=Poly([0,1,2,3,4],4)\n",
    "a"
   ]
  },
  {
   "cell_type": "code",
   "execution_count": 4,
   "metadata": {},
   "outputs": [
    {
     "data": {
      "text/plain": [
       "interval([-10.0, 10.0])"
      ]
     },
     "execution_count": 4,
     "metadata": {},
     "output_type": "execute_result"
    }
   ],
   "source": [
    "a.bound_poly()"
   ]
  },
  {
   "cell_type": "code",
   "execution_count": 5,
   "metadata": {},
   "outputs": [
    {
     "data": {
      "text/plain": [
       "interval([-0.03434835980625268, 0.03434835980625268])"
      ]
     },
     "execution_count": 5,
     "metadata": {},
     "output_type": "execute_result"
    }
   ],
   "source": [
    "b=Poly([0,1,0,0,0],2)\n",
    "I=interval[-0.5,0.5]\n",
    "imath.exp(I)/6*I**3"
   ]
  },
  {
   "cell_type": "code",
   "execution_count": 6,
   "metadata": {},
   "outputs": [
    {
     "data": {
      "text/plain": [
       "interval([0.6065306597126333, 1.6487212707001282])"
      ]
     },
     "execution_count": 6,
     "metadata": {},
     "output_type": "execute_result"
    }
   ],
   "source": [
    "imath.exp(I)"
   ]
  },
  {
   "cell_type": "code",
   "execution_count": 7,
   "metadata": {},
   "outputs": [
    {
     "data": {
      "text/plain": [
       "interval([-0.018469340287366687, -0.018469340287366576])"
      ]
     },
     "execution_count": 7,
     "metadata": {},
     "output_type": "execute_result"
    }
   ],
   "source": [
    "imath.exp(interval(-0.5))-b.exp()(interval(-0.5))"
   ]
  },
  {
   "cell_type": "code",
   "execution_count": 8,
   "metadata": {},
   "outputs": [
    {
     "data": {
      "text/plain": [
       "interval([-0.0])"
      ]
     },
     "execution_count": 8,
     "metadata": {},
     "output_type": "execute_result"
    }
   ],
   "source": [
    "imath.exp(interval(0))-b.exp()(interval(0))"
   ]
  },
  {
   "cell_type": "code",
   "execution_count": 9,
   "metadata": {},
   "outputs": [
    {
     "data": {
      "text/plain": [
       "interval([0.023721270700127972, 0.023721270700128194])"
      ]
     },
     "execution_count": 9,
     "metadata": {},
     "output_type": "execute_result"
    }
   ],
   "source": [
    "imath.exp(interval(0.5))-b.exp()(interval(0.5))"
   ]
  },
  {
   "cell_type": "code",
   "execution_count": 10,
   "metadata": {},
   "outputs": [
    {
     "data": {
      "text/plain": [
       "Poly([1.0, 1.0, 0.5], 2)"
      ]
     },
     "execution_count": 10,
     "metadata": {},
     "output_type": "execute_result"
    }
   ],
   "source": [
    "b.exp()"
   ]
  },
  {
   "cell_type": "code",
   "execution_count": 14,
   "metadata": {},
   "outputs": [
    {
     "data": {
      "text/plain": [
       "interval([0.10108844328543887, 0.2747868784500214])"
      ]
     },
     "execution_count": 14,
     "metadata": {},
     "output_type": "execute_result"
    }
   ],
   "source": [
    "bI=imath.exp(I)/6\n",
    "bI"
   ]
  },
  {
   "cell_type": "code",
   "execution_count": 15,
   "metadata": {},
   "outputs": [
    {
     "data": {
      "text/plain": [
       "TaylorModel(Poly([1.0, 1.0, 0.5], 2), interval([0.0]), interval([0.0]), interval([-0.5, 0.5]) )"
      ]
     },
     "execution_count": 15,
     "metadata": {},
     "output_type": "execute_result"
    }
   ],
   "source": [
    "b1=Taylor(b.exp(),interval(0),I)\n",
    "b1"
   ]
  },
  {
   "cell_type": "code",
   "execution_count": 16,
   "metadata": {},
   "outputs": [
    {
     "data": {
      "text/plain": [
       "interval([-0.018469340287366687, 0.023721270700128194])"
      ]
     },
     "execution_count": 16,
     "metadata": {},
     "output_type": "execute_result"
    }
   ],
   "source": [
    "b1.bound_rem(imath.exp,bI)"
   ]
  },
  {
   "cell_type": "code",
   "execution_count": null,
   "metadata": {},
   "outputs": [],
   "source": []
  },
  {
   "cell_type": "code",
   "execution_count": null,
   "metadata": {},
   "outputs": [],
   "source": []
  }
 ],
 "metadata": {
  "kernelspec": {
   "display_name": "Python 3",
   "language": "python",
   "name": "python3"
  },
  "language_info": {
   "codemirror_mode": {
    "name": "ipython",
    "version": 3
   },
   "file_extension": ".py",
   "mimetype": "text/x-python",
   "name": "python",
   "nbconvert_exporter": "python",
   "pygments_lexer": "ipython3",
   "version": "3.7.4"
  }
 },
 "nbformat": 4,
 "nbformat_minor": 4
}
