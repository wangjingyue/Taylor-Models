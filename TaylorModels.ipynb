{
 "cells": [
  {
   "cell_type": "code",
   "execution_count": 1,
   "metadata": {},
   "outputs": [],
   "source": [
    "import math\n",
    "from interval import interval, imath\n",
    "from Polynomials import *"
   ]
  },
  {
   "cell_type": "code",
   "execution_count": 57,
   "metadata": {},
   "outputs": [],
   "source": [
    "class Taylor:\n",
    "    def __init__(self, poly:Poly, order:int, remainder:interval, domain:interval):\n",
    "        self.P=poly\n",
    "        self.order=order\n",
    "        self.I=interval(remainder)\n",
    "        self.D=interval(domain)\n",
    "\n",
    "    def __repr__(self):\n",
    "        return 'TaylorModel({0}, {1}, {2}, {3} )'.format(self.P, self.order, self.I, self.D)\n",
    "    \n",
    "    def __add__(self, other):\n",
    "        if isinstance(other,(int,float)):\n",
    "            other=Taylor(Poly([other],0),0,0,self.D)\n",
    "        return Taylor(self.P+other.P,(self.P+other.P).order,self.I+other.I,self.D)\n",
    "    \n",
    "    def __radd__(self,other):\n",
    "        return self+other\n",
    "    \n",
    "    def __sub__(self, other):\n",
    "        if isinstance(other,(int,float)):\n",
    "            other=Taylor(Poly([other],0),0,0,self.D)\n",
    "        return Taylor(self.P-other.P,(self.P-other.P).order,self.I-other.I,self.D)\n",
    "    \n",
    "    def __rsub__(self,other):\n",
    "        if isinstance(other,(int,float)):\n",
    "            other=Taylor(Poly([other],0),0,0,self.D)\n",
    "        return other-self\n",
    "    \n",
    "    def __mul__(self, other):\n",
    "        if isinstance(other,(int,float)):\n",
    "            if other==0:\n",
    "                return 0\n",
    "            else:\n",
    "                return Taylor(other*self.P,self.order,other*self.I,self.D)\n",
    "        order=max(self.order,other.order)\n",
    "        P=Taylor(self.P*other.P,order,self.I,self.D).truncation(order)\n",
    "        I1=(Taylor(self.P*other.P,order,self.I,self.D)-P).bound_poly()\n",
    "        I2=self.bound_poly()*other.I\n",
    "        I3=self.I*other.bound_poly()\n",
    "        I4=self.I*other.I\n",
    "        return Taylor(P.P,order,I1+I2+I3+I4,self.D)\n",
    "    \n",
    "    def __rmul__(self,other):\n",
    "        return self*other\n",
    "    \n",
    "    #bound polynomials\n",
    "    def bound_poly(self):\n",
    "        B=self.P.coef[0]\n",
    "        n=self.P.order\n",
    "        for i in range(1,n+1):\n",
    "            B+=interval(self.P.coef[i])*(self.D**i)\n",
    "        return B\n",
    "    \n",
    "    def truncation(self,n):\n",
    "        return Taylor(Poly(self.P.coef[:n+1],n),n,self.I,self.D)\n",
    "    \n",
    "    def __truediv__(self, other):\n",
    "        if isinstance(other,(int,float)):\n",
    "            if other==0:\n",
    "                raise Exception(\"Cannot dividied by zero!\")\n",
    "            else:\n",
    "                return Taylor(self.P/other,self.order,self.I/other,self.D)\n",
    "        else:\n",
    "            raise Exception(\"Can only do scalar division!\")\n",
    "    \n",
    "    def one(self):\n",
    "        return Taylor(Poly.one(self.order),self.order,self.I,self.D)\n",
    "    \n",
    "    def zero(self):\n",
    "        return Taylor(Poly.zero(self.order),self.order,self.I,self.D)\n",
    "    \n",
    "    def square(self):\n",
    "        return self*self\n",
    "    \n",
    "    def __pow__(self,n):\n",
    "        if n==0:\n",
    "            return self.one()\n",
    "        elif n%2==0:\n",
    "            if n==2:\n",
    "                return self.square()\n",
    "            else:\n",
    "                p=int(n/2)\n",
    "                return self.__pow__(p).square()\n",
    "        elif n%2==1:\n",
    "            if n==1:\n",
    "                return self\n",
    "            else:\n",
    "                p=int((n-1)/2)\n",
    "                return self*self.__pow__(p).square()\n",
    "        else:\n",
    "            raise Exception(\"n must be a positive integer\")\n",
    "    \n",
    "    #composition of a function 'f' and a Taylor model 'self'\n",
    "    def compose(f,self):\n",
    "        pass\n",
    "            "
   ]
  },
  {
   "cell_type": "code",
   "execution_count": 25,
   "metadata": {},
   "outputs": [
    {
     "data": {
      "text/plain": [
       "TaylorModel(Poly([0, 1, 2, 3, 4], 4), 4, interval([0.0, 1.0]), interval([-1.0, 1.0]) )"
      ]
     },
     "execution_count": 25,
     "metadata": {},
     "output_type": "execute_result"
    }
   ],
   "source": [
    "a=Taylor(Poly([0,1,2,3,4],4),4,interval([0,1]),interval([-1,1]))\n",
    "b=Taylor(Poly([1,2,3,4,5],4),4,interval([0,2]),interval([-1,1]))\n",
    "a"
   ]
  },
  {
   "cell_type": "code",
   "execution_count": 26,
   "metadata": {},
   "outputs": [
    {
     "data": {
      "text/plain": [
       "TaylorModel(Poly([1, 2, 3, 4, 5], 4), 4, interval([0.0, 2.0]), interval([-1.0, 1.0]) )"
      ]
     },
     "execution_count": 26,
     "metadata": {},
     "output_type": "execute_result"
    }
   ],
   "source": [
    "b"
   ]
  },
  {
   "cell_type": "code",
   "execution_count": 27,
   "metadata": {},
   "outputs": [
    {
     "data": {
      "text/plain": [
       "TaylorModel(Poly([1, 3, 5, 7, 9], 4), 4, interval([0.0, 3.0]), interval([-1.0, 1.0]) )"
      ]
     },
     "execution_count": 27,
     "metadata": {},
     "output_type": "execute_result"
    }
   ],
   "source": [
    "a+b"
   ]
  },
  {
   "cell_type": "code",
   "execution_count": 28,
   "metadata": {},
   "outputs": [
    {
     "data": {
      "text/plain": [
       "TaylorModel(Poly([1, 1, 2, 3, 4], 4), 4, interval([0.0, 1.0]), interval([-1.0, 1.0]) )"
      ]
     },
     "execution_count": 28,
     "metadata": {},
     "output_type": "execute_result"
    }
   ],
   "source": [
    "1+a"
   ]
  },
  {
   "cell_type": "code",
   "execution_count": 29,
   "metadata": {},
   "outputs": [
    {
     "data": {
      "text/plain": [
       "TaylorModel(Poly([0, 0, 0, 0, 0], 4), 4, interval([-1.0, 1.0]), interval([-1.0, 1.0]) )"
      ]
     },
     "execution_count": 29,
     "metadata": {},
     "output_type": "execute_result"
    }
   ],
   "source": [
    "a-a"
   ]
  },
  {
   "cell_type": "code",
   "execution_count": 30,
   "metadata": {},
   "outputs": [
    {
     "data": {
      "text/plain": [
       "TaylorModel(Poly([1, -1, -2, -3, -4], 4), 4, interval([-1.0, 0.0]), interval([-1.0, 1.0]) )"
      ]
     },
     "execution_count": 30,
     "metadata": {},
     "output_type": "execute_result"
    }
   ],
   "source": [
    "1-a"
   ]
  },
  {
   "cell_type": "code",
   "execution_count": 31,
   "metadata": {},
   "outputs": [
    {
     "data": {
      "text/plain": [
       "interval([-4.0, 10.0])"
      ]
     },
     "execution_count": 31,
     "metadata": {},
     "output_type": "execute_result"
    }
   ],
   "source": [
    "interval([-1,1])+2*(interval([-1,1]))**2+3*(interval([-1,1]))**3+4*(interval([-1,1]))**4"
   ]
  },
  {
   "cell_type": "code",
   "execution_count": 32,
   "metadata": {},
   "outputs": [
    {
     "data": {
      "text/plain": [
       "interval([-10.0, 10.0])"
      ]
     },
     "execution_count": 32,
     "metadata": {},
     "output_type": "execute_result"
    }
   ],
   "source": [
    "a.P(interval([-1,1]))"
   ]
  },
  {
   "cell_type": "code",
   "execution_count": 33,
   "metadata": {},
   "outputs": [
    {
     "data": {
      "text/plain": [
       "interval([-4.0, 10.0])"
      ]
     },
     "execution_count": 33,
     "metadata": {},
     "output_type": "execute_result"
    }
   ],
   "source": [
    "a.bound_poly()"
   ]
  },
  {
   "cell_type": "code",
   "execution_count": 34,
   "metadata": {},
   "outputs": [
    {
     "data": {
      "text/plain": [
       "TaylorModel(Poly([0, 1, 2, 3, 4], 4), 4, interval([0.0, 1.0]), interval([-1.0, 1.0]) )"
      ]
     },
     "execution_count": 34,
     "metadata": {},
     "output_type": "execute_result"
    }
   ],
   "source": [
    "a"
   ]
  },
  {
   "cell_type": "code",
   "execution_count": 35,
   "metadata": {},
   "outputs": [
    {
     "data": {
      "text/plain": [
       "TaylorModel(Poly([0, 0, 0, 0, 4], 4), 4, interval([-1.0, 1.0]), interval([-1.0, 1.0]) )"
      ]
     },
     "execution_count": 35,
     "metadata": {},
     "output_type": "execute_result"
    }
   ],
   "source": [
    "a-a.truncation(3)"
   ]
  },
  {
   "cell_type": "code",
   "execution_count": 36,
   "metadata": {},
   "outputs": [
    {
     "data": {
      "text/plain": [
       "TaylorModel(Poly([0, 1, 4, 10, 20, 30, 34, 31, 20], 8), 4, interval([0.0, 1.0]), interval([-1.0, 1.0]) )"
      ]
     },
     "execution_count": 36,
     "metadata": {},
     "output_type": "execute_result"
    }
   ],
   "source": [
    "P1=Taylor(a.P*b.P,max(a.order,b.order),a.I,a.D)\n",
    "P1"
   ]
  },
  {
   "cell_type": "code",
   "execution_count": 37,
   "metadata": {},
   "outputs": [
    {
     "data": {
      "text/plain": [
       "TaylorModel(Poly([0, 1, 4, 10, 20], 4), 4, interval([0.0, 1.0]), interval([-1.0, 1.0]) )"
      ]
     },
     "execution_count": 37,
     "metadata": {},
     "output_type": "execute_result"
    }
   ],
   "source": [
    "P=Taylor(a.P*b.P,max(a.order,b.order),a.I,a.D).truncation(max(a.order,b.order))\n",
    "P"
   ]
  },
  {
   "cell_type": "code",
   "execution_count": 38,
   "metadata": {},
   "outputs": [
    {
     "data": {
      "text/plain": [
       "interval([-72.0, 150.0])"
      ]
     },
     "execution_count": 38,
     "metadata": {},
     "output_type": "execute_result"
    }
   ],
   "source": [
    "P1.bound_poly()"
   ]
  },
  {
   "cell_type": "code",
   "execution_count": 39,
   "metadata": {},
   "outputs": [
    {
     "data": {
      "text/plain": [
       "interval([-11.0, 35.0])"
      ]
     },
     "execution_count": 39,
     "metadata": {},
     "output_type": "execute_result"
    }
   ],
   "source": [
    "P.bound_poly()"
   ]
  },
  {
   "cell_type": "code",
   "execution_count": 40,
   "metadata": {},
   "outputs": [
    {
     "data": {
      "text/plain": [
       "interval([-107.0, 161.0])"
      ]
     },
     "execution_count": 40,
     "metadata": {},
     "output_type": "execute_result"
    }
   ],
   "source": [
    "P1.bound_poly()-P.bound_poly()"
   ]
  },
  {
   "cell_type": "code",
   "execution_count": 41,
   "metadata": {},
   "outputs": [
    {
     "data": {
      "text/plain": [
       "TaylorModel(Poly([0, 0, 0, 0, 0, 30, 34, 31, 20], 8), 8, interval([-1.0, 1.0]), interval([-1.0, 1.0]) )"
      ]
     },
     "execution_count": 41,
     "metadata": {},
     "output_type": "execute_result"
    }
   ],
   "source": [
    "P1-P"
   ]
  },
  {
   "cell_type": "code",
   "execution_count": 42,
   "metadata": {},
   "outputs": [
    {
     "data": {
      "text/plain": [
       "interval([-61.0, 115.0])"
      ]
     },
     "execution_count": 42,
     "metadata": {},
     "output_type": "execute_result"
    }
   ],
   "source": [
    "I1=(P1-P).bound_poly()\n",
    "I1"
   ]
  },
  {
   "cell_type": "code",
   "execution_count": 43,
   "metadata": {},
   "outputs": [
    {
     "data": {
      "text/plain": [
       "interval([-115.0, 115.0])"
      ]
     },
     "execution_count": 43,
     "metadata": {},
     "output_type": "execute_result"
    }
   ],
   "source": [
    "(Taylor(a.P*b.P,max(a.order,b.order),a.I,a.D)-P).P(interval([-1.0, 1.0]))"
   ]
  },
  {
   "cell_type": "code",
   "execution_count": 44,
   "metadata": {},
   "outputs": [
    {
     "data": {
      "text/plain": [
       "interval([-8.0, 20.0])"
      ]
     },
     "execution_count": 44,
     "metadata": {},
     "output_type": "execute_result"
    }
   ],
   "source": [
    "I2=a.bound_poly()*b.I\n",
    "I2"
   ]
  },
  {
   "cell_type": "code",
   "execution_count": 45,
   "metadata": {},
   "outputs": [
    {
     "data": {
      "text/plain": [
       "interval([-5.0, 15.0])"
      ]
     },
     "execution_count": 45,
     "metadata": {},
     "output_type": "execute_result"
    }
   ],
   "source": [
    "I3=b.bound_poly()*a.I\n",
    "I3"
   ]
  },
  {
   "cell_type": "code",
   "execution_count": 46,
   "metadata": {},
   "outputs": [
    {
     "data": {
      "text/plain": [
       "interval([0.0, 2.0])"
      ]
     },
     "execution_count": 46,
     "metadata": {},
     "output_type": "execute_result"
    }
   ],
   "source": [
    "I4=a.I*b.I\n",
    "I4"
   ]
  },
  {
   "cell_type": "code",
   "execution_count": 47,
   "metadata": {},
   "outputs": [
    {
     "data": {
      "text/plain": [
       "interval([-74.0, 152.0])"
      ]
     },
     "execution_count": 47,
     "metadata": {},
     "output_type": "execute_result"
    }
   ],
   "source": [
    "I1+I2+I3+I4"
   ]
  },
  {
   "cell_type": "code",
   "execution_count": 48,
   "metadata": {},
   "outputs": [
    {
     "data": {
      "text/plain": [
       "TaylorModel(Poly([0, 1, 4, 10, 20], 4), 4, interval([-74.0, 152.0]), interval([-1.0, 1.0]) )"
      ]
     },
     "execution_count": 48,
     "metadata": {},
     "output_type": "execute_result"
    }
   ],
   "source": [
    "a*b"
   ]
  },
  {
   "cell_type": "code",
   "execution_count": 49,
   "metadata": {},
   "outputs": [
    {
     "data": {
      "text/plain": [
       "TaylorModel(Poly([0, 2, 4, 6, 8], 4), 4, interval([0.0, 2.0]), interval([-1.0, 1.0]) )"
      ]
     },
     "execution_count": 49,
     "metadata": {},
     "output_type": "execute_result"
    }
   ],
   "source": [
    "a*2"
   ]
  },
  {
   "cell_type": "code",
   "execution_count": 50,
   "metadata": {},
   "outputs": [
    {
     "data": {
      "text/plain": [
       "TaylorModel(Poly([0.0, 0.5, 1.0, 1.5, 2.0], 4), 4, interval([0.0, 0.5]), interval([-1.0, 1.0]) )"
      ]
     },
     "execution_count": 50,
     "metadata": {},
     "output_type": "execute_result"
    }
   ],
   "source": [
    "a/2"
   ]
  },
  {
   "cell_type": "code",
   "execution_count": 51,
   "metadata": {},
   "outputs": [
    {
     "data": {
      "text/plain": [
       "Poly([1, 0, 0, 0, 0, 0], 5)"
      ]
     },
     "execution_count": 51,
     "metadata": {},
     "output_type": "execute_result"
    }
   ],
   "source": [
    "Poly.one(5)"
   ]
  },
  {
   "cell_type": "code",
   "execution_count": 52,
   "metadata": {},
   "outputs": [
    {
     "data": {
      "text/plain": [
       "TaylorModel(Poly([0, 0, 0, 0, 0], 4), 4, interval([-78148.0, 161051.0]), interval([-1.0, 1.0]) )"
      ]
     },
     "execution_count": 52,
     "metadata": {},
     "output_type": "execute_result"
    }
   ],
   "source": [
    "a*a*a*a*a"
   ]
  },
  {
   "cell_type": "code",
   "execution_count": 53,
   "metadata": {},
   "outputs": [
    {
     "data": {
      "text/plain": [
       "TaylorModel(Poly([0, 0, 0, 0, 0], 4), 4, interval([-78764.0, 161051.0]), interval([-1.0, 1.0]) )"
      ]
     },
     "execution_count": 53,
     "metadata": {},
     "output_type": "execute_result"
    }
   ],
   "source": [
    "a**5"
   ]
  },
  {
   "cell_type": "code",
   "execution_count": 54,
   "metadata": {},
   "outputs": [
    {
     "data": {
      "text/plain": [
       "interval([-3.0, 9.0])"
      ]
     },
     "execution_count": 54,
     "metadata": {},
     "output_type": "execute_result"
    }
   ],
   "source": [
    "interval([-1,1])**2+interval([-1,1])**3+interval([-1,1])**4+interval([0,2])+interval([0,1])*interval([-1,1])+interval([-1,3])"
   ]
  },
  {
   "cell_type": "code",
   "execution_count": 55,
   "metadata": {},
   "outputs": [
    {
     "data": {
      "text/plain": [
       "interval([-1.0, 3.0])"
      ]
     },
     "execution_count": 55,
     "metadata": {},
     "output_type": "execute_result"
    }
   ],
   "source": [
    "Taylor(Poly([1,1,0,1],3),3,interval([0,1]),interval([-1,1])).bound_poly()"
   ]
  },
  {
   "cell_type": "code",
   "execution_count": 56,
   "metadata": {},
   "outputs": [
    {
     "data": {
      "text/plain": [
       "interval([-1.0, 3.0])"
      ]
     },
     "execution_count": 56,
     "metadata": {},
     "output_type": "execute_result"
    }
   ],
   "source": [
    "Poly([1,1,0,1],3)(interval([-1,1]))"
   ]
  },
  {
   "cell_type": "code",
   "execution_count": null,
   "metadata": {},
   "outputs": [],
   "source": []
  }
 ],
 "metadata": {
  "kernelspec": {
   "display_name": "Python 3",
   "language": "python",
   "name": "python3"
  },
  "language_info": {
   "codemirror_mode": {
    "name": "ipython",
    "version": 3
   },
   "file_extension": ".py",
   "mimetype": "text/x-python",
   "name": "python",
   "nbconvert_exporter": "python",
   "pygments_lexer": "ipython3",
   "version": "3.7.4"
  }
 },
 "nbformat": 4,
 "nbformat_minor": 4
}
