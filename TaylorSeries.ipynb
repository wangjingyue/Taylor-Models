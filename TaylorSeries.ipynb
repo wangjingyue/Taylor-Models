{
 "cells": [
  {
   "cell_type": "code",
   "execution_count": 1,
   "metadata": {},
   "outputs": [],
   "source": [
    "import math\n",
    "from interval import interval, imath, fpu"
   ]
  },
  {
   "cell_type": "code",
   "execution_count": 2,
   "metadata": {},
   "outputs": [],
   "source": [
    "class Taylor:\n",
    "    def __init__(self, coef:list, order:int):\n",
    "        self.order=order\n",
    "        if len(coef)<(order+1):\n",
    "            for i in range(order+1-len(coef)):\n",
    "                coef.append(0)\n",
    "        #self.coef=[float(i) for i in coef]\n",
    "        self.coef=coef\n",
    "\n",
    "    def __repr__(self):\n",
    "        return 'Taylor(%s, %d)'%(self.coef, self.order)\n",
    "   \n",
    "    def fixshape(x, y):\n",
    "        order=max(x.order,y.order)\n",
    "        x1=x.coef[:]\n",
    "        y1=y.coef[:]\n",
    "        if x.order<order:\n",
    "            for i in range(order-x.order):\n",
    "                x1.append(0)\n",
    "        else:\n",
    "            for i in range(order-y.order):\n",
    "                y1.append(0)\n",
    "        return Taylor(x1,order), Taylor(y1,order), order\n",
    "        \n",
    "    def fixshape1(x, y):\n",
    "        order=x.order+y.order\n",
    "        x1=x.coef[:]\n",
    "        y1=y.coef[:]\n",
    "        if x.order<order:\n",
    "            for i in range(order-x.order):\n",
    "                x1.append(0)\n",
    "        else:\n",
    "            for i in range(order-y.order):\n",
    "                y1.append(0)\n",
    "        return Taylor(x1,order), Taylor(y1,order), order   \n",
    "    \n",
    "    def firstnonzero(self):\n",
    "        order=self.order\n",
    "        nonzero=order+1\n",
    "        for i in range(order+1):\n",
    "            if self.coef[i]!=0:\n",
    "                nonzero=i\n",
    "                break\n",
    "        return nonzero\n",
    "    \n",
    "    def __add__(self, other):\n",
    "        coef=[]\n",
    "        self1, other1, order=self.fixshape(other)\n",
    "        for i in range(order+1):\n",
    "            coef.append(self1.coef[i]+other1.coef[i])\n",
    "        return Taylor(coef,order)\n",
    "    \n",
    "    def __sub__(self, other):\n",
    "        coef=[]\n",
    "        self1, other1, order=self.fixshape(other)\n",
    "        for i in range(order+1):\n",
    "            coef.append(self1.coef[i]-other1.coef[i])\n",
    "        return Taylor(coef,order)\n",
    "    \n",
    "    def __mul__(self, other):\n",
    "        coef=[]\n",
    "        self1, other1, order=Taylor.fixshape1(self, other)\n",
    "        coef.append(self1.coef[0]*other1.coef[0])\n",
    "        for i in range(1,order+1):\n",
    "            s=0\n",
    "            for j in range(i+1):\n",
    "                s+=self1.coef[j]*other1.coef[i-j]\n",
    "            coef.append(s)\n",
    "        return Taylor(coef,order)\n",
    "    \n",
    "    def __truediv__(self, other):\n",
    "        self1, other1, order=self.fixshape(other)\n",
    "        coef=Taylor.zero(order).coef\n",
    "        orddivfact, cdivfact=self1.divfactorization(other1)\n",
    "        coef[0]=cdivfact\n",
    "        for i in range(orddivfact+1,order+1):\n",
    "            coef[i-orddivfact]=self.divcoef(i,self1.coef,other1.coef,coef,orddivfact)\n",
    "        return Taylor(coef,order)\n",
    "    \n",
    "    def divfactorization(self,other):\n",
    "        a1nz=self.firstnonzero()\n",
    "        b1nz=other.firstnonzero()\n",
    "        orddivfact=min(a1nz,b1nz)\n",
    "        try:\n",
    "            cdivfact=self.coef[orddivfact]/other.coef[orddivfact]\n",
    "            aux=cdivfact**2\n",
    "        except ZeroDivisionError:\n",
    "            print(\"Division does not define a Taylor polynomial\\n\")\n",
    "        return orddivfact, cdivfact\n",
    "    \n",
    "    def divcoef(self,i,coef1,coef2,coef,orddivfact):\n",
    "        s=0\n",
    "        for j in range(i+1):\n",
    "            s+=coef[j]*coef2[i-j]\n",
    "        s=(coef1[i]-s)/coef2[orddivfact]\n",
    "        return s\n",
    "\n",
    "    def zero(n):\n",
    "        coef=[]\n",
    "        coef.append(0)\n",
    "        for i in range(n):\n",
    "            coef.append(0)\n",
    "        return Taylor(coef,n)\n",
    "    \n",
    "    def one(n):\n",
    "        coef=[]\n",
    "        coef.append(1)\n",
    "        for i in range(n):\n",
    "            coef.append(0)\n",
    "        return Taylor(coef,n)\n",
    "    \n",
    "    def __eq__(self,other):\n",
    "        self1, other1, order=Taylor.fixshape(self, other)\n",
    "        return self1.coef==other1.coef\n",
    "    \n",
    "    def square(self):\n",
    "        order=self.order*2\n",
    "        for a in range(self.order):\n",
    "            self.coef.append(0)\n",
    "        coef=[]\n",
    "        coef.append((self.coef[0])**2)\n",
    "        for i in range(1,order+1):\n",
    "            coef.append(self.squarecoef(i,self.coef))\n",
    "        return Taylor(coef,order)        \n",
    "    \n",
    "    def squarecoef(self,i,coef):\n",
    "        s=0\n",
    "        iend=int((i-2+i%2)/2)\n",
    "        for j in range(iend+1):\n",
    "            s+=coef[j]*coef[i-j]\n",
    "        s=2*s\n",
    "        if i%2==0:  \n",
    "            s+=coef[int(i/2)]**2\n",
    "        return s\n",
    "    \n",
    "    def sqrt(self):\n",
    "        order=self.order\n",
    "        l0nz=self.firstnonzero()\n",
    "        if l0nz%2==1:\n",
    "            raise ValueError(\"First non-vanishing Taylor coefficient must be an EVEN POWER to expand SQRT around 0.\\n\")\n",
    "        lnull=int(l0nz/2)\n",
    "        aux=math.sqrt(self.coef[l0nz])\n",
    "        coef=Taylor.zero(order).coef\n",
    "        coef[lnull]=aux\n",
    "        for i in range(lnull+1,order-l0nz+1):\n",
    "            coef[i]=self.sqrtcoef(i,self.coef,coef,lnull)\n",
    "        return Taylor(coef,order)\n",
    "\n",
    "    def sqrtcoef(self,i,ac,coef,lnull):\n",
    "        s=0\n",
    "        kodd=(i-lnull)%2\n",
    "        kend=int((i-lnull-2+kodd)/2)\n",
    "        for j in range(lnull+1,lnull+kend+1):\n",
    "            s+=coef[j]*coef[i+lnull-j]\n",
    "        aux=ac[i+lnull]-2*s\n",
    "        if kodd==0:\n",
    "            aux=aux-(coef[kend+lnull+1])**2\n",
    "        s=aux/(2*coef[lnull])\n",
    "        return s\n",
    "        \n",
    "    \n",
    "    def __pow__(self,n:int):\n",
    "        if type(n)==int:\n",
    "            order=self.order*n\n",
    "            for a in range(self.order):\n",
    "                self.coef.append(0)\n",
    "            if n<0:\n",
    "                return Taylor.one(n)/self.__pow__(-n)\n",
    "            elif n==0:\n",
    "                return Taylor.one(order)\n",
    "            elif n%2==0:\n",
    "                if n==2:\n",
    "                    return self.square()\n",
    "                else:\n",
    "                    p=int(n/2)\n",
    "                    return Taylor(self.__pow__(p).square().coef,order)\n",
    "            elif n==1:\n",
    "                return self\n",
    "            else:\n",
    "                p=int((n-1)/2)\n",
    "                return Taylor((self*self.__pow__(p).square()).coef,order)\n",
    "        elif type(n)==float:\n",
    "            order=self.order\n",
    "            uno=Taylor.one(order)\n",
    "            if n==0:\n",
    "                return uno\n",
    "            elif n==0.5:\n",
    "                return self.sqrt()\n",
    "            l0nz=self.firstnonzero()\n",
    "            lnull=n*l0nz\n",
    "            lnull=int(lnull)\n",
    "            aux=(self.coef[l0nz])**n\n",
    "            coef=Taylor.zero(order).coef\n",
    "            coef[lnull]=aux\n",
    "            k0=lnull+l0nz\n",
    "            for i in range(k0+1,order+1):\n",
    "                coef[i-l0nz]=self.powcoef(i,self.coef,n,coef,l0nz)\n",
    "            return Taylor(coef,order)\n",
    "\n",
    "    def powcoef(self,i,ac,x,coef,l0nz):\n",
    "        s=0\n",
    "        for j in range(i-l0nz):\n",
    "            aux=x*(i-j)-j\n",
    "            s+=aux*ac[i-j]*coef[j]\n",
    "        aux=i-l0nz*(x+1)\n",
    "        s=s/(aux*ac[l0nz])\n",
    "        return s\n",
    "    \n",
    "    def exp(self):\n",
    "        order=self.order\n",
    "        coef=[]\n",
    "        coef.append(math.exp(self.coef[0]))\n",
    "        for i in range(1,order+1):\n",
    "            s=0\n",
    "            for j in range(i):\n",
    "                s+=(i-j)*self.coef[i-j]*coef[j]\n",
    "            coef.append(s/i)\n",
    "        return Taylor(coef,order)\n",
    "    \n",
    "    def log(self):\n",
    "        order=self.order\n",
    "        coef=[]\n",
    "        coef.append(math.log(self.coef[0]))\n",
    "        for i in range(1,order+1):\n",
    "            s=0\n",
    "            for j in range(1,i):\n",
    "                s+=(i-j)*self.coef[j]*coef[i-j]\n",
    "            coef.append((self.coef[i]-s/i)/self.coef[0])\n",
    "        return Taylor(coef,order)\n",
    "    \n",
    "    def sincos(self):\n",
    "        order=self.order\n",
    "        scoef=[];ccoef=[]\n",
    "        scoef.append(math.sin(self.coef[0]))\n",
    "        ccoef.append(math.cos(self.coef[0]))\n",
    "        for i in range(1,order+1):\n",
    "            s=0;c=0\n",
    "            for j in range(1,i+1):\n",
    "                s+=j*self.coef[j]*ccoef[i-j]\n",
    "                c-=j*self.coef[j]*scoef[i-j]\n",
    "            scoef.append(s/i)\n",
    "            ccoef.append(c/i)\n",
    "        return Taylor(scoef,order), Taylor(ccoef,order)\n",
    "    \n",
    "    def sin(self):\n",
    "        return self.sincos()[0]\n",
    "    \n",
    "    def cos(self):\n",
    "        return self.sincos()[1]\n",
    "    \n",
    "    def tan(self):\n",
    "        order=self.order\n",
    "        coef1=[]\n",
    "        coef2=[]\n",
    "        t=math.tan(self.coef[0])\n",
    "        coef1.append(t)\n",
    "        coef2.append(t**2)\n",
    "        for i in range(1,order+1):\n",
    "            coef1.append(self.tancoef(i,self.coef,coef2))\n",
    "            coef2.append(self.squarecoef(i,coef1))\n",
    "        return Taylor(coef1,order)\n",
    "    \n",
    "    def tancoef(self,i,coef,coef2):\n",
    "        s=0\n",
    "        for j in range(i):\n",
    "            s+=(i-j)*coef[i-j]*coef2[j]\n",
    "        s=self.coef[i]+s/i\n",
    "        return s\n",
    "    \n",
    "    def diffTaylor(self):\n",
    "        order=self.order\n",
    "        coef=[]\n",
    "        coef.append(self.coef[1])\n",
    "        for i in range(2,order+1):\n",
    "            coef.append(i*self.coef[i])\n",
    "        coef.append(0)\n",
    "        return Taylor(coef,order)\n",
    "        \n",
    "    def inteTaylor(self,x):\n",
    "        order=self.order\n",
    "        coef=[]\n",
    "        coef.append(x)\n",
    "        for i in range(1,order+1):\n",
    "            coef.append(self.coef[i-1]/i)\n",
    "        return Taylor(coef,order)\n",
    "     \n",
    "    def __call__(self,dx):\n",
    "        order=self.order\n",
    "        s=self.coef[-1]\n",
    "        for i in range(order-1,-1,-1):\n",
    "            s=s*dx+self.coef[i]\n",
    "        return s\n",
    "        \n",
    "    def deriv(self,n):\n",
    "        s=math.factorial(n)*self.coef[n]\n",
    "        return s"
   ]
  },
  {
   "cell_type": "code",
   "execution_count": 3,
   "metadata": {},
   "outputs": [],
   "source": [
    "c=Taylor([0,1,2,3,4],4)\n",
    "b=Taylor([1.0,2.0,3.0],2)\n",
    "a=Taylor([0,1,0,0,0],4)"
   ]
  },
  {
   "cell_type": "code",
   "execution_count": 4,
   "metadata": {},
   "outputs": [
    {
     "data": {
      "text/plain": [
       "Taylor([1, 1, 0, 0, 0, 0], 5)"
      ]
     },
     "execution_count": 4,
     "metadata": {},
     "output_type": "execute_result"
    }
   ],
   "source": [
    "d=Taylor([0,1],17)\n",
    "f=Taylor([1,1],5)\n",
    "f"
   ]
  },
  {
   "cell_type": "code",
   "execution_count": 5,
   "metadata": {},
   "outputs": [
    {
     "data": {
      "text/plain": [
       "Taylor([1.0, 4.0, 7.0, 6, 8], 4)"
      ]
     },
     "execution_count": 5,
     "metadata": {},
     "output_type": "execute_result"
    }
   ],
   "source": [
    "c+b+c"
   ]
  },
  {
   "cell_type": "code",
   "execution_count": 6,
   "metadata": {},
   "outputs": [
    {
     "data": {
      "text/plain": [
       "Taylor([-1.0, -1.0, -1.0, 3, 4], 4)"
      ]
     },
     "execution_count": 6,
     "metadata": {},
     "output_type": "execute_result"
    }
   ],
   "source": [
    "c-b"
   ]
  },
  {
   "cell_type": "code",
   "execution_count": 7,
   "metadata": {},
   "outputs": [
    {
     "data": {
      "text/plain": [
       "Taylor([0.0, 1.0, 4.0, 10.0, 16.0, 17.0, 12.0], 6)"
      ]
     },
     "execution_count": 7,
     "metadata": {},
     "output_type": "execute_result"
    }
   ],
   "source": [
    "c*b"
   ]
  },
  {
   "cell_type": "code",
   "execution_count": 8,
   "metadata": {},
   "outputs": [
    {
     "data": {
      "text/plain": [
       "Taylor([1.0, 2.0, 3.0, 4.0, 0], 4)"
      ]
     },
     "execution_count": 8,
     "metadata": {},
     "output_type": "execute_result"
    }
   ],
   "source": [
    "c/a"
   ]
  },
  {
   "cell_type": "code",
   "execution_count": 9,
   "metadata": {},
   "outputs": [
    {
     "data": {
      "text/plain": [
       "Taylor([1.0, 1.0, 1.0, 1.0, 1.0, 1.0, 1.0], 6)"
      ]
     },
     "execution_count": 9,
     "metadata": {},
     "output_type": "execute_result"
    }
   ],
   "source": [
    "Taylor([1],6)/(Taylor([1],5)-a)"
   ]
  },
  {
   "cell_type": "code",
   "execution_count": 10,
   "metadata": {},
   "outputs": [
    {
     "data": {
      "text/plain": [
       "Taylor([1, -1, 0, 0, 0], 4)"
      ]
     },
     "execution_count": 10,
     "metadata": {},
     "output_type": "execute_result"
    }
   ],
   "source": [
    "(Taylor([1],4)-a)"
   ]
  },
  {
   "cell_type": "code",
   "execution_count": 11,
   "metadata": {},
   "outputs": [
    {
     "data": {
      "text/plain": [
       "Taylor([1, 0, 0, 0, 0], 4)"
      ]
     },
     "execution_count": 11,
     "metadata": {},
     "output_type": "execute_result"
    }
   ],
   "source": [
    "Taylor.one(4)"
   ]
  },
  {
   "cell_type": "code",
   "execution_count": 12,
   "metadata": {},
   "outputs": [
    {
     "data": {
      "text/plain": [
       "Taylor([0, 0, 0, 0, 0], 4)"
      ]
     },
     "execution_count": 12,
     "metadata": {},
     "output_type": "execute_result"
    }
   ],
   "source": [
    "Taylor.zero(4)"
   ]
  },
  {
   "cell_type": "code",
   "execution_count": 13,
   "metadata": {},
   "outputs": [
    {
     "data": {
      "text/plain": [
       "Taylor([1.0, 1.0, 0.5, 0.16666666666666666, 0.041666666666666664], 4)"
      ]
     },
     "execution_count": 13,
     "metadata": {},
     "output_type": "execute_result"
    }
   ],
   "source": [
    "a.exp()"
   ]
  },
  {
   "cell_type": "code",
   "execution_count": 14,
   "metadata": {},
   "outputs": [
    {
     "data": {
      "text/plain": [
       "Taylor([0.0, -1.0, -0.5, -0.3333333333333333, -0.25], 4)"
      ]
     },
     "execution_count": 14,
     "metadata": {},
     "output_type": "execute_result"
    }
   ],
   "source": [
    "(Taylor.one(1)-a).log()"
   ]
  },
  {
   "cell_type": "code",
   "execution_count": 15,
   "metadata": {},
   "outputs": [
    {
     "data": {
      "text/plain": [
       "(Taylor([0.0, 1.0, 0.0, -0.16666666666666666, 0.0], 4),\n",
       " Taylor([1.0, 0.0, -0.5, 0.0, 0.041666666666666664], 4))"
      ]
     },
     "execution_count": 15,
     "metadata": {},
     "output_type": "execute_result"
    }
   ],
   "source": [
    "a.sincos()"
   ]
  },
  {
   "cell_type": "code",
   "execution_count": 16,
   "metadata": {},
   "outputs": [
    {
     "data": {
      "text/plain": [
       "Taylor([0.0, 1.0, 0.0, -0.16666666666666666, 0.0], 4)"
      ]
     },
     "execution_count": 16,
     "metadata": {},
     "output_type": "execute_result"
    }
   ],
   "source": [
    "a.sin()"
   ]
  },
  {
   "cell_type": "code",
   "execution_count": 17,
   "metadata": {},
   "outputs": [
    {
     "data": {
      "text/plain": [
       "Taylor([0.8414709848078965, 1.0806046117362795, -0.062035052011373715], 2)"
      ]
     },
     "execution_count": 17,
     "metadata": {},
     "output_type": "execute_result"
    }
   ],
   "source": [
    "b.sin()"
   ]
  },
  {
   "cell_type": "code",
   "execution_count": 18,
   "metadata": {},
   "outputs": [
    {
     "data": {
      "text/plain": [
       "Taylor([1.0, 0.0, -0.5, 0.0, 0.041666666666666664], 4)"
      ]
     },
     "execution_count": 18,
     "metadata": {},
     "output_type": "execute_result"
    }
   ],
   "source": [
    "a.cos()"
   ]
  },
  {
   "cell_type": "code",
   "execution_count": 19,
   "metadata": {},
   "outputs": [
    {
     "data": {
      "text/plain": [
       "Taylor([0, 0, 1, 4, 10, 20, 25, 24, 16], 8)"
      ]
     },
     "execution_count": 19,
     "metadata": {},
     "output_type": "execute_result"
    }
   ],
   "source": [
    "c.square()"
   ]
  },
  {
   "cell_type": "code",
   "execution_count": 20,
   "metadata": {},
   "outputs": [
    {
     "data": {
      "text/plain": [
       "Taylor([1.0, 0.5, -0.125, 0.0625, -0.0390625, 0.02734375], 5)"
      ]
     },
     "execution_count": 20,
     "metadata": {},
     "output_type": "execute_result"
    }
   ],
   "source": [
    "f.sqrt()"
   ]
  },
  {
   "cell_type": "code",
   "execution_count": 21,
   "metadata": {},
   "outputs": [
    {
     "data": {
      "text/plain": [
       "Taylor([2.718281828459045, 5.43656365691809, 13.591409142295227], 2)"
      ]
     },
     "execution_count": 21,
     "metadata": {},
     "output_type": "execute_result"
    }
   ],
   "source": [
    "b.exp()"
   ]
  },
  {
   "cell_type": "code",
   "execution_count": 22,
   "metadata": {},
   "outputs": [
    {
     "data": {
      "text/plain": [
       "Taylor([0.0, 1.0, 0.0, 0.3333333333333333, 0.0], 4)"
      ]
     },
     "execution_count": 22,
     "metadata": {},
     "output_type": "execute_result"
    }
   ],
   "source": [
    "a.tan()"
   ]
  },
  {
   "cell_type": "code",
   "execution_count": 23,
   "metadata": {},
   "outputs": [
    {
     "data": {
      "text/plain": [
       "Taylor([2.0, 6.0, 0], 2)"
      ]
     },
     "execution_count": 23,
     "metadata": {},
     "output_type": "execute_result"
    }
   ],
   "source": [
    "b.diffTaylor()"
   ]
  },
  {
   "cell_type": "code",
   "execution_count": 24,
   "metadata": {},
   "outputs": [
    {
     "data": {
      "text/plain": [
       "Taylor([1.0, 1.0, 0.5, 0.16666666666666666, 0], 4)"
      ]
     },
     "execution_count": 24,
     "metadata": {},
     "output_type": "execute_result"
    }
   ],
   "source": [
    "a.exp().diffTaylor()"
   ]
  },
  {
   "cell_type": "code",
   "execution_count": 25,
   "metadata": {},
   "outputs": [
    {
     "data": {
      "text/plain": [
       "Taylor([1.0, 1.0, 0.5, 0.16666666666666666, 0.041666666666666664], 4)"
      ]
     },
     "execution_count": 25,
     "metadata": {},
     "output_type": "execute_result"
    }
   ],
   "source": [
    "a.exp()"
   ]
  },
  {
   "cell_type": "code",
   "execution_count": 26,
   "metadata": {},
   "outputs": [
    {
     "data": {
      "text/plain": [
       "Taylor([1], 0)"
      ]
     },
     "execution_count": 26,
     "metadata": {},
     "output_type": "execute_result"
    }
   ],
   "source": [
    "b**0"
   ]
  },
  {
   "cell_type": "code",
   "execution_count": 27,
   "metadata": {},
   "outputs": [
    {
     "data": {
      "text/plain": [
       "Taylor([1.0, -2.0, 1.0], 2)"
      ]
     },
     "execution_count": 27,
     "metadata": {},
     "output_type": "execute_result"
    }
   ],
   "source": [
    "b**-1"
   ]
  },
  {
   "cell_type": "code",
   "execution_count": 28,
   "metadata": {},
   "outputs": [
    {
     "data": {
      "text/plain": [
       "True"
      ]
     },
     "execution_count": 28,
     "metadata": {},
     "output_type": "execute_result"
    }
   ],
   "source": [
    "b**4==b*b*b*b"
   ]
  },
  {
   "cell_type": "code",
   "execution_count": 29,
   "metadata": {},
   "outputs": [
    {
     "data": {
      "text/plain": [
       "Taylor([1.0, 8.0, 36.0, 104.0, 214.0, 312.0, 324.0, 216.0, 81.0], 8)"
      ]
     },
     "execution_count": 29,
     "metadata": {},
     "output_type": "execute_result"
    }
   ],
   "source": [
    "b**4"
   ]
  },
  {
   "cell_type": "code",
   "execution_count": 30,
   "metadata": {},
   "outputs": [
    {
     "data": {
      "text/plain": [
       "Taylor([1, -1, 0, 0, 0, 0], 5)"
      ]
     },
     "execution_count": 30,
     "metadata": {},
     "output_type": "execute_result"
    }
   ],
   "source": [
    "a1=(Taylor([1],5)-a)\n",
    "a1"
   ]
  },
  {
   "cell_type": "code",
   "execution_count": 31,
   "metadata": {},
   "outputs": [
    {
     "data": {
      "text/plain": [
       "Taylor([1.0, -3.2, 3.5200000000000005, -1.4080000000000004, 0.07040000000000009, 0.011264000000000012], 5)"
      ]
     },
     "execution_count": 31,
     "metadata": {},
     "output_type": "execute_result"
    }
   ],
   "source": [
    "a1**(3.2)"
   ]
  },
  {
   "cell_type": "code",
   "execution_count": 32,
   "metadata": {},
   "outputs": [
    {
     "data": {
      "text/plain": [
       "Taylor([0, 0, 1, 0, 0, 0, 0, 0, 0], 8)"
      ]
     },
     "execution_count": 32,
     "metadata": {},
     "output_type": "execute_result"
    }
   ],
   "source": [
    "a**2"
   ]
  },
  {
   "cell_type": "code",
   "execution_count": 33,
   "metadata": {},
   "outputs": [
    {
     "data": {
      "text/plain": [
       "Taylor([1, 1.0, 1.0], 2)"
      ]
     },
     "execution_count": 33,
     "metadata": {},
     "output_type": "execute_result"
    }
   ],
   "source": [
    "b.inteTaylor(1)"
   ]
  },
  {
   "cell_type": "code",
   "execution_count": 34,
   "metadata": {},
   "outputs": [
    {
     "data": {
      "text/plain": [
       "Taylor([0, 1.0, 0.5, 0.16666666666666666, 0.041666666666666664], 4)"
      ]
     },
     "execution_count": 34,
     "metadata": {},
     "output_type": "execute_result"
    }
   ],
   "source": [
    "a.exp().inteTaylor(0)"
   ]
  },
  {
   "cell_type": "code",
   "execution_count": 35,
   "metadata": {},
   "outputs": [
    {
     "data": {
      "text/plain": [
       "True"
      ]
     },
     "execution_count": 35,
     "metadata": {},
     "output_type": "execute_result"
    }
   ],
   "source": [
    "a.exp().diffTaylor().inteTaylor(1)==a.exp()"
   ]
  },
  {
   "cell_type": "code",
   "execution_count": 36,
   "metadata": {},
   "outputs": [
    {
     "data": {
      "text/plain": [
       "2.708333333333333"
      ]
     },
     "execution_count": 36,
     "metadata": {},
     "output_type": "execute_result"
    }
   ],
   "source": [
    "a.exp()(1)"
   ]
  },
  {
   "cell_type": "code",
   "execution_count": 37,
   "metadata": {},
   "outputs": [
    {
     "data": {
      "text/plain": [
       "7.0"
      ]
     },
     "execution_count": 37,
     "metadata": {},
     "output_type": "execute_result"
    }
   ],
   "source": [
    "a.exp()(2)"
   ]
  },
  {
   "cell_type": "code",
   "execution_count": 38,
   "metadata": {},
   "outputs": [
    {
     "data": {
      "text/plain": [
       "interval([2.708333333333333, 7.0])"
      ]
     },
     "execution_count": 38,
     "metadata": {},
     "output_type": "execute_result"
    }
   ],
   "source": [
    "a.exp()(interval[1,2])"
   ]
  },
  {
   "cell_type": "code",
   "execution_count": 39,
   "metadata": {},
   "outputs": [
    {
     "data": {
      "text/plain": [
       "-0.009948495125712054"
      ]
     },
     "execution_count": 39,
     "metadata": {},
     "output_type": "execute_result"
    }
   ],
   "source": [
    "a.exp()(1)-math.exp(1)"
   ]
  },
  {
   "cell_type": "code",
   "execution_count": 40,
   "metadata": {},
   "outputs": [
    {
     "data": {
      "text/plain": [
       "interval([2.7182818284590446, 2.718281828459045])"
      ]
     },
     "execution_count": 40,
     "metadata": {},
     "output_type": "execute_result"
    }
   ],
   "source": [
    "d.exp()(interval(1))"
   ]
  },
  {
   "cell_type": "code",
   "execution_count": 41,
   "metadata": {},
   "outputs": [
    {
     "data": {
      "text/plain": [
       "0.0"
      ]
     },
     "execution_count": 41,
     "metadata": {},
     "output_type": "execute_result"
    }
   ],
   "source": [
    "d.exp()(1)-math.exp(1)"
   ]
  },
  {
   "cell_type": "code",
   "execution_count": 42,
   "metadata": {},
   "outputs": [
    {
     "data": {
      "text/plain": [
       "True"
      ]
     },
     "execution_count": 42,
     "metadata": {},
     "output_type": "execute_result"
    }
   ],
   "source": [
    "f.exp().deriv(5)==math.exp(1)"
   ]
  },
  {
   "cell_type": "code",
   "execution_count": 43,
   "metadata": {},
   "outputs": [
    {
     "data": {
      "text/plain": [
       "Taylor([2.718281828459045, 2.718281828459045, 1.3591409142295225, 0.45304697140984085, 0.11326174285246021, 0.02265234857049204], 5)"
      ]
     },
     "execution_count": 43,
     "metadata": {},
     "output_type": "execute_result"
    }
   ],
   "source": [
    "f.exp()"
   ]
  },
  {
   "cell_type": "code",
   "execution_count": 44,
   "metadata": {},
   "outputs": [
    {
     "data": {
      "text/plain": [
       "interval([-3.0, 3.0])"
      ]
     },
     "execution_count": 44,
     "metadata": {},
     "output_type": "execute_result"
    }
   ],
   "source": [
    "(lambda x: x**2 + x + x**3 - x**2)(interval[-1,1])"
   ]
  },
  {
   "cell_type": "code",
   "execution_count": 45,
   "metadata": {},
   "outputs": [],
   "source": [
    "f1=Taylor([0,1,1],2)\n",
    "f2=Taylor([0,0,-1,1],3)"
   ]
  },
  {
   "cell_type": "code",
   "execution_count": 46,
   "metadata": {},
   "outputs": [
    {
     "data": {
      "text/plain": [
       "interval([-2.0, 2.0])"
      ]
     },
     "execution_count": 46,
     "metadata": {},
     "output_type": "execute_result"
    }
   ],
   "source": [
    "f3=f1+f2\n",
    "f3(interval[-1,1])"
   ]
  },
  {
   "cell_type": "code",
   "execution_count": null,
   "metadata": {},
   "outputs": [],
   "source": []
  },
  {
   "cell_type": "code",
   "execution_count": null,
   "metadata": {},
   "outputs": [],
   "source": []
  }
 ],
 "metadata": {
  "kernelspec": {
   "display_name": "Python 3",
   "language": "python",
   "name": "python3"
  },
  "language_info": {
   "codemirror_mode": {
    "name": "ipython",
    "version": 3
   },
   "file_extension": ".py",
   "mimetype": "text/x-python",
   "name": "python",
   "nbconvert_exporter": "python",
   "pygments_lexer": "ipython3",
   "version": "3.7.4"
  }
 },
 "nbformat": 4,
 "nbformat_minor": 4
}
