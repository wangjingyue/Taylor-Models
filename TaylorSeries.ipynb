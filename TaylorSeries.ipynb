{
 "cells": [
  {
   "cell_type": "code",
   "execution_count": 1,
   "metadata": {},
   "outputs": [],
   "source": [
    "import math"
   ]
  },
  {
   "cell_type": "code",
   "execution_count": 2,
   "metadata": {},
   "outputs": [],
   "source": [
    "class Taylor:\n",
    "    def __init__(self, coef:list, order:int):\n",
    "        self.order=order\n",
    "        if len(coef)<(order+1):\n",
    "            for i in range(order+1-len(coef)):\n",
    "                coef.append(0.0)\n",
    "        self.coef=[float(i) for i in coef]\n",
    "\n",
    "    def __repr__(self):\n",
    "        return 'Taylor(%s, %d)'%(self.coef, self.order)\n",
    "   \n",
    "    def fixshape(x, y):\n",
    "        order=max(x.order,y.order)\n",
    "        x1=x.coef[:]\n",
    "        y1=y.coef[:]\n",
    "        if x.order<order:\n",
    "            for i in range(order-x.order):\n",
    "                x1.append(0)\n",
    "        else:\n",
    "            for i in range(order-y.order):\n",
    "                y1.append(0)\n",
    "        return Taylor(x1,order), Taylor(y1,order), order\n",
    "        \n",
    "    def __add__(self, other):\n",
    "        coef=[]\n",
    "        self1, other1, order=self.fixshape(other)\n",
    "        for i in range(order+1):\n",
    "            coef.append(self1.coef[i]+other1.coef[i])\n",
    "        return Taylor(coef,order)\n",
    "    \n",
    "    def __sub__(self, other):\n",
    "        coef=[]\n",
    "        self1, other1, order=self.fixshape(other)\n",
    "        for i in range(order+1):\n",
    "            coef.append(self1.coef[i]-other1.coef[i])\n",
    "        return Taylor(coef,order)\n",
    "    \n",
    "    def __mul__(self, other):\n",
    "        coef=[]\n",
    "        self1, other1, order=Taylor.fixshape(self, other)\n",
    "        coef.append(self1.coef[0]*other1.coef[0])\n",
    "        for i in range(1,order+1):\n",
    "            s=0\n",
    "            for j in range(i+1):\n",
    "                s+=self1.coef[j]*other1.coef[i-j]\n",
    "            coef.append(s)\n",
    "        return Taylor(coef,order)\n",
    "    \n",
    "    def __truediv__(self, other):\n",
    "        pass\n",
    "\n",
    "    def one(n):\n",
    "        coef=[]\n",
    "        coef.append(1.0)\n",
    "        for i in range(n):\n",
    "            coef.append(0.0)\n",
    "        return Taylor(coef,n)\n",
    "    \n",
    "    def __eq__(self,other):\n",
    "        self1, other1, order=Taylor.fixshape(self, other)\n",
    "        return self1.coef==other1.coef\n",
    "    \n",
    "    def square(self):\n",
    "        order=self.order\n",
    "        coef=[]\n",
    "        coef.append((self.coef[0])**2)\n",
    "        for i in range(1,order+1):\n",
    "            coef.append(self.squarecoef(i,self.coef))\n",
    "        return Taylor(coef,order)        \n",
    "    \n",
    "    def squarecoef(self,i,coef):\n",
    "        s=0\n",
    "        iend=int((i-2+i%2)/2)\n",
    "        for j in range(iend+1):\n",
    "            s+=coef[j]*coef[i-j]\n",
    "        s=2*s\n",
    "        if i%2==0:\n",
    "            s+=coef[int(i/2)]**2\n",
    "        return s\n",
    "    \n",
    "    def sqrt(self):\n",
    "        pass\n",
    "    \n",
    "    def power(self,n:int):\n",
    "        order=self.order\n",
    "        coef=self.coef\n",
    "        if n<0:\n",
    "            return 1/self.power(-n)\n",
    "        elif n==0:\n",
    "            return Taylor.one(order)\n",
    "        elif n%2==0:\n",
    "            if n==2:\n",
    "                return self.square()\n",
    "            else:\n",
    "                p=int(n/2)\n",
    "                return Taylor(self.power(p).square().coef,order)\n",
    "        elif n==1:\n",
    "            return self\n",
    "        else:\n",
    "            p=int((n-1)/2)\n",
    "            return Taylor((self*self.power(p).square()).coef,order)                \n",
    "            \n",
    "    \n",
    "    def exp(self):\n",
    "        order=self.order\n",
    "        coef=[]\n",
    "        coef.append(math.exp(self.coef[0]))\n",
    "        for i in range(1,order+1):\n",
    "            s=0\n",
    "            for j in range(i):\n",
    "                s+=(i-j)*self.coef[i-j]*coef[j]\n",
    "            coef.append(s/i)\n",
    "        return Taylor(coef,order)\n",
    "    \n",
    "    def log(self):\n",
    "        order=self.order\n",
    "        coef=[]\n",
    "        coef.append(math.log(self.coef[0]))\n",
    "        for i in range(1,order+1):\n",
    "            s=0\n",
    "            for j in range(1,i):\n",
    "                s+=(i-j)*self.coef[j]*coef[i-j]\n",
    "            coef.append((self.coef[i]-s/i)/self.coef[0])\n",
    "        return Taylor(coef,order)\n",
    "    \n",
    "    def sincos(self):\n",
    "        order=self.order\n",
    "        scoef=[];ccoef=[]\n",
    "        scoef.append(math.sin(self.coef[0]))\n",
    "        ccoef.append(math.cos(self.coef[0]))\n",
    "        for i in range(1,order+1):\n",
    "            s=0;c=0\n",
    "            for j in range(1,i+1):\n",
    "                s+=j*self.coef[j]*ccoef[i-j]\n",
    "                c-=j*self.coef[j]*scoef[i-j]\n",
    "            scoef.append(s/i)\n",
    "            ccoef.append(c/i)\n",
    "        return Taylor(scoef,order), Taylor(ccoef,order)\n",
    "    \n",
    "    def sin(self):\n",
    "        return self.sincos()[0]\n",
    "    \n",
    "    def cos(self):\n",
    "        return self.sincos()[1]\n",
    "    \n",
    "    def tan(self):\n",
    "        order=self.order\n",
    "        coef1=[]\n",
    "        coef2=[]\n",
    "        t=math.tan(self.coef[0])\n",
    "        coef1.append(t)\n",
    "        coef2.append(t**2)\n",
    "        for i in range(1,order+1):\n",
    "            coef1.append(self.tancoef(i,self.coef,coef2))\n",
    "            coef2.append(self.squarecoef(i,coef1))\n",
    "        return Taylor(coef1,order)\n",
    "    \n",
    "    def tancoef(self,i,coef,coef2):\n",
    "        s=0\n",
    "        for j in range(i):\n",
    "            s+=(i-j)*coef[i-j]*coef2[j]\n",
    "        s=self.coef[i]+s/i\n",
    "        return s\n",
    "    \n",
    "    def diffTaylor(self):\n",
    "        order=self.order\n",
    "        coef=[]\n",
    "        coef.append(self.coef[1])\n",
    "        for i in range(2,order+1):\n",
    "            coef.append(i*self.coef[i])\n",
    "        coef.append(0)\n",
    "        return Taylor(coef,order)\n",
    "        \n",
    "    def inteTaylor(self,x):\n",
    "        order=self.order\n",
    "        coef=[]\n",
    "        coef.append(x)\n",
    "        for i in range(1,order+1):\n",
    "            coef.append(self.coef[i-1]/i)\n",
    "        return Taylor(coef,order)\n",
    "     \n",
    "    def evalTaylor(self,dx):\n",
    "        order=self.order\n",
    "        s=self.coef[-1]\n",
    "        for i in range(order-1,-1,-1):\n",
    "            s=s*dx+self.coef[i]\n",
    "        return s\n",
    "        \n",
    "    def deriv(self,n):\n",
    "        s=math.factorial(n)*self.coef[n]\n",
    "        return s"
   ]
  },
  {
   "cell_type": "code",
   "execution_count": 3,
   "metadata": {},
   "outputs": [],
   "source": [
    "c=Taylor([2,1,2,3,4],4)\n",
    "b=Taylor([1.0,2.0,3.0],2)\n",
    "a=Taylor([0,1,0,0,0,0],5)\n",
    "e=Taylor([1,0],1)"
   ]
  },
  {
   "cell_type": "code",
   "execution_count": 4,
   "metadata": {},
   "outputs": [
    {
     "data": {
      "text/plain": [
       "Taylor([1.0, 1.0, 0.0, 0.0, 0.0, 0.0], 5)"
      ]
     },
     "execution_count": 4,
     "metadata": {},
     "output_type": "execute_result"
    }
   ],
   "source": [
    "d=Taylor([0,1],17)\n",
    "f=Taylor([1,1],5)\n",
    "f"
   ]
  },
  {
   "cell_type": "code",
   "execution_count": 5,
   "metadata": {},
   "outputs": [
    {
     "data": {
      "text/plain": [
       "Taylor([5.0, 4.0, 7.0, 6.0, 8.0], 4)"
      ]
     },
     "execution_count": 5,
     "metadata": {},
     "output_type": "execute_result"
    }
   ],
   "source": [
    "c+b+c"
   ]
  },
  {
   "cell_type": "code",
   "execution_count": 6,
   "metadata": {},
   "outputs": [
    {
     "data": {
      "text/plain": [
       "Taylor([1.0, -1.0, -1.0, 3.0, 4.0], 4)"
      ]
     },
     "execution_count": 6,
     "metadata": {},
     "output_type": "execute_result"
    }
   ],
   "source": [
    "c-b"
   ]
  },
  {
   "cell_type": "code",
   "execution_count": 7,
   "metadata": {},
   "outputs": [
    {
     "data": {
      "text/plain": [
       "Taylor([2.0, 5.0, 10.0, 10.0, 16.0], 4)"
      ]
     },
     "execution_count": 7,
     "metadata": {},
     "output_type": "execute_result"
    }
   ],
   "source": [
    "c*b"
   ]
  },
  {
   "cell_type": "code",
   "execution_count": 8,
   "metadata": {},
   "outputs": [
    {
     "data": {
      "text/plain": [
       "Taylor([1.0, 0.0, 0.0, 0.0, 0.0], 4)"
      ]
     },
     "execution_count": 8,
     "metadata": {},
     "output_type": "execute_result"
    }
   ],
   "source": [
    "Taylor.one(4)"
   ]
  },
  {
   "cell_type": "code",
   "execution_count": 9,
   "metadata": {},
   "outputs": [
    {
     "data": {
      "text/plain": [
       "Taylor([1.0, 1.0, 0.5, 0.16666666666666666, 0.041666666666666664, 0.008333333333333333], 5)"
      ]
     },
     "execution_count": 9,
     "metadata": {},
     "output_type": "execute_result"
    }
   ],
   "source": [
    "a.exp()"
   ]
  },
  {
   "cell_type": "code",
   "execution_count": 10,
   "metadata": {},
   "outputs": [
    {
     "data": {
      "text/plain": [
       "Taylor([0.0, -1.0, -0.5, -0.3333333333333333, -0.25, -0.2], 5)"
      ]
     },
     "execution_count": 10,
     "metadata": {},
     "output_type": "execute_result"
    }
   ],
   "source": [
    "(e-a).log()"
   ]
  },
  {
   "cell_type": "code",
   "execution_count": 11,
   "metadata": {},
   "outputs": [
    {
     "data": {
      "text/plain": [
       "(Taylor([0.0, 1.0, 0.0, -0.16666666666666666, 0.0, 0.008333333333333333], 5),\n",
       " Taylor([1.0, 0.0, -0.5, 0.0, 0.041666666666666664, 0.0], 5))"
      ]
     },
     "execution_count": 11,
     "metadata": {},
     "output_type": "execute_result"
    }
   ],
   "source": [
    "a.sincos()"
   ]
  },
  {
   "cell_type": "code",
   "execution_count": 12,
   "metadata": {},
   "outputs": [
    {
     "data": {
      "text/plain": [
       "Taylor([0.0, 1.0, 0.0, -0.16666666666666666, 0.0, 0.008333333333333333], 5)"
      ]
     },
     "execution_count": 12,
     "metadata": {},
     "output_type": "execute_result"
    }
   ],
   "source": [
    "a.sin()"
   ]
  },
  {
   "cell_type": "code",
   "execution_count": 13,
   "metadata": {},
   "outputs": [
    {
     "data": {
      "text/plain": [
       "Taylor([1.0, 0.0, -0.5, 0.0, 0.041666666666666664, 0.0], 5)"
      ]
     },
     "execution_count": 13,
     "metadata": {},
     "output_type": "execute_result"
    }
   ],
   "source": [
    "a.cos()"
   ]
  },
  {
   "cell_type": "code",
   "execution_count": 14,
   "metadata": {},
   "outputs": [
    {
     "data": {
      "text/plain": [
       "Taylor([1.0, 4.0, 10.0], 2)"
      ]
     },
     "execution_count": 14,
     "metadata": {},
     "output_type": "execute_result"
    }
   ],
   "source": [
    "b.square()"
   ]
  },
  {
   "cell_type": "code",
   "execution_count": 15,
   "metadata": {},
   "outputs": [
    {
     "data": {
      "text/plain": [
       "Taylor([0.0, 1.0, 0.0, 0.3333333333333333, 0.0, 0.13333333333333333], 5)"
      ]
     },
     "execution_count": 15,
     "metadata": {},
     "output_type": "execute_result"
    }
   ],
   "source": [
    "a.tan()"
   ]
  },
  {
   "cell_type": "code",
   "execution_count": 16,
   "metadata": {},
   "outputs": [
    {
     "data": {
      "text/plain": [
       "Taylor([2.0, 6.0, 0.0], 2)"
      ]
     },
     "execution_count": 16,
     "metadata": {},
     "output_type": "execute_result"
    }
   ],
   "source": [
    "b.diffTaylor()"
   ]
  },
  {
   "cell_type": "code",
   "execution_count": 17,
   "metadata": {},
   "outputs": [
    {
     "data": {
      "text/plain": [
       "Taylor([1.0, 1.0, 0.5, 0.16666666666666666, 0.041666666666666664, 0.0], 5)"
      ]
     },
     "execution_count": 17,
     "metadata": {},
     "output_type": "execute_result"
    }
   ],
   "source": [
    "a.exp().diffTaylor()"
   ]
  },
  {
   "cell_type": "code",
   "execution_count": 18,
   "metadata": {},
   "outputs": [
    {
     "data": {
      "text/plain": [
       "Taylor([1.0, 1.0, 0.5, 0.16666666666666666, 0.041666666666666664, 0.008333333333333333], 5)"
      ]
     },
     "execution_count": 18,
     "metadata": {},
     "output_type": "execute_result"
    }
   ],
   "source": [
    "a.exp()"
   ]
  },
  {
   "cell_type": "code",
   "execution_count": 19,
   "metadata": {},
   "outputs": [
    {
     "data": {
      "text/plain": [
       "Taylor([1.0, 0.0, 0.0], 2)"
      ]
     },
     "execution_count": 19,
     "metadata": {},
     "output_type": "execute_result"
    }
   ],
   "source": [
    "b.power(0)"
   ]
  },
  {
   "cell_type": "code",
   "execution_count": 20,
   "metadata": {},
   "outputs": [
    {
     "data": {
      "text/plain": [
       "Taylor([1.0, 8.0, 36.0], 2)"
      ]
     },
     "execution_count": 20,
     "metadata": {},
     "output_type": "execute_result"
    }
   ],
   "source": [
    "b.power(4)"
   ]
  },
  {
   "cell_type": "code",
   "execution_count": 21,
   "metadata": {},
   "outputs": [
    {
     "data": {
      "text/plain": [
       "Taylor([1.0, 12.0, 78.0], 2)"
      ]
     },
     "execution_count": 21,
     "metadata": {},
     "output_type": "execute_result"
    }
   ],
   "source": [
    "b.power(6)"
   ]
  },
  {
   "cell_type": "code",
   "execution_count": 22,
   "metadata": {},
   "outputs": [
    {
     "data": {
      "text/plain": [
       "Taylor([1.0, 1.0, 1.0], 2)"
      ]
     },
     "execution_count": 22,
     "metadata": {},
     "output_type": "execute_result"
    }
   ],
   "source": [
    "b.inteTaylor(1)"
   ]
  },
  {
   "cell_type": "code",
   "execution_count": 23,
   "metadata": {},
   "outputs": [
    {
     "data": {
      "text/plain": [
       "Taylor([0.0, 1.0, 0.5, 0.16666666666666666, 0.041666666666666664, 0.008333333333333333], 5)"
      ]
     },
     "execution_count": 23,
     "metadata": {},
     "output_type": "execute_result"
    }
   ],
   "source": [
    "a.exp().inteTaylor(0)"
   ]
  },
  {
   "cell_type": "code",
   "execution_count": 24,
   "metadata": {},
   "outputs": [
    {
     "data": {
      "text/plain": [
       "True"
      ]
     },
     "execution_count": 24,
     "metadata": {},
     "output_type": "execute_result"
    }
   ],
   "source": [
    "a.exp().diffTaylor().inteTaylor(1)==a.exp()"
   ]
  },
  {
   "cell_type": "code",
   "execution_count": 25,
   "metadata": {},
   "outputs": [
    {
     "data": {
      "text/plain": [
       "2.716666666666667"
      ]
     },
     "execution_count": 25,
     "metadata": {},
     "output_type": "execute_result"
    }
   ],
   "source": [
    "a.exp().evalTaylor(1)"
   ]
  },
  {
   "cell_type": "code",
   "execution_count": 26,
   "metadata": {},
   "outputs": [
    {
     "data": {
      "text/plain": [
       "-0.0016151617923783057"
      ]
     },
     "execution_count": 26,
     "metadata": {},
     "output_type": "execute_result"
    }
   ],
   "source": [
    "a.exp().evalTaylor(1)-math.exp(1)"
   ]
  },
  {
   "cell_type": "code",
   "execution_count": 27,
   "metadata": {},
   "outputs": [
    {
     "data": {
      "text/plain": [
       "2.718281828459045"
      ]
     },
     "execution_count": 27,
     "metadata": {},
     "output_type": "execute_result"
    }
   ],
   "source": [
    "d.exp().evalTaylor(1)"
   ]
  },
  {
   "cell_type": "code",
   "execution_count": 28,
   "metadata": {},
   "outputs": [
    {
     "data": {
      "text/plain": [
       "0.0"
      ]
     },
     "execution_count": 28,
     "metadata": {},
     "output_type": "execute_result"
    }
   ],
   "source": [
    "d.exp().evalTaylor(1)-math.exp(1)"
   ]
  },
  {
   "cell_type": "code",
   "execution_count": 35,
   "metadata": {},
   "outputs": [
    {
     "data": {
      "text/plain": [
       "True"
      ]
     },
     "execution_count": 35,
     "metadata": {},
     "output_type": "execute_result"
    }
   ],
   "source": [
    "f.exp().deriv(5)==math.exp(1)"
   ]
  },
  {
   "cell_type": "code",
   "execution_count": 36,
   "metadata": {},
   "outputs": [
    {
     "data": {
      "text/plain": [
       "Taylor([2.718281828459045, 2.718281828459045, 1.3591409142295225, 0.45304697140984085, 0.11326174285246021, 0.02265234857049204], 5)"
      ]
     },
     "execution_count": 36,
     "metadata": {},
     "output_type": "execute_result"
    }
   ],
   "source": [
    "f.exp()"
   ]
  },
  {
   "cell_type": "code",
   "execution_count": null,
   "metadata": {},
   "outputs": [],
   "source": []
  }
 ],
 "metadata": {
  "kernelspec": {
   "display_name": "Python 3",
   "language": "python",
   "name": "python3"
  },
  "language_info": {
   "codemirror_mode": {
    "name": "ipython",
    "version": 3
   },
   "file_extension": ".py",
   "mimetype": "text/x-python",
   "name": "python",
   "nbconvert_exporter": "python",
   "pygments_lexer": "ipython3",
   "version": "3.7.4"
  }
 },
 "nbformat": 4,
 "nbformat_minor": 4
}
